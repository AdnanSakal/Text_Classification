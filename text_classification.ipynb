{
  "cells": [
    {
      "cell_type": "markdown",
      "metadata": {
        "id": "view-in-github",
        "colab_type": "text"
      },
      "source": [
        "<a href=\"https://colab.research.google.com/github/AdnanSakal/Text_Classification/blob/main/text_classification.ipynb\" target=\"_parent\"><img src=\"https://colab.research.google.com/assets/colab-badge.svg\" alt=\"Open In Colab\"/></a>"
      ]
    },
    {
      "cell_type": "code",
      "execution_count": null,
      "metadata": {
        "id": "DBW6hoMWijPi"
      },
      "outputs": [],
      "source": [
        "import tensorflow as tf\n",
        "import matplotlib.pyplot as plt\n",
        "import numpy as np\n",
        "import pandas as pd\n",
        "import random\n",
        "import os\n",
        "import zipfile"
      ]
    },
    {
      "cell_type": "code",
      "execution_count": null,
      "metadata": {
        "id": "LW2fC85JjZsi"
      },
      "outputs": [],
      "source": [
        "!pip install -q kaggle"
      ]
    },
    {
      "cell_type": "code",
      "execution_count": null,
      "metadata": {
        "id": "mJgoA7PSjtAP"
      },
      "outputs": [],
      "source": [
        "from google.colab import files\n",
        "files.upload()"
      ]
    },
    {
      "cell_type": "code",
      "execution_count": null,
      "metadata": {
        "id": "PBYkwox1jy6K"
      },
      "outputs": [],
      "source": [
        "!mkdir ~/.kaggle"
      ]
    },
    {
      "cell_type": "code",
      "execution_count": null,
      "metadata": {
        "id": "Ni6uuuCuj3A4"
      },
      "outputs": [],
      "source": [
        "!cp kaggle.json ~/.kaggle\n",
        "!chmod 600 ~/.kaggle/kaggle.json"
      ]
    },
    {
      "cell_type": "code",
      "execution_count": null,
      "metadata": {
        "colab": {
          "base_uri": "https://localhost:8080/"
        },
        "id": "WTTgzDo-9pEi",
        "outputId": "22ccc2bc-339c-477e-cf02-9cf4f89dee45"
      },
      "outputs": [
        {
          "output_type": "stream",
          "name": "stdout",
          "text": [
            "ref                                                             title                                               size  lastUpdated          downloadCount  voteCount  usabilityRating  \n",
            "--------------------------------------------------------------  -------------------------------------------------  -----  -------------------  -------------  ---------  ---------------  \n",
            "vstepanenko/disaster-tweets                                     Disaster Tweets                                    656KB  2020-11-12 14:56:58           6204        146  1.0              \n",
            "vbmokin/nlp-with-disaster-tweets-cleaning-data                  NLP with Disaster Tweets - cleaning data             1MB  2021-09-11 19:24:20           2136         56  0.9117647        \n",
            "harshithvarma007/disaster-tweets                                Disaster Tweets                                    396KB  2024-03-12 05:12:36             74          6  1.0              \n",
            "bravo03/nlp-with-disaster-tweets                                NLP with Disaster Tweets                             8KB  2024-01-27 05:11:38             65         98  0.8235294        \n",
            "gauravduttakiit/nlp-with-disaster-tweets                        NLP with Disaster Tweets                             2MB  2023-06-15 21:40:44             50          5  0.8125           \n",
            "frednavruzov/disaster-tweets-geodata                            Disaster Tweets Geodata                             73KB  2020-01-03 11:32:08            175          4  0.7647059        \n",
            "hardikgarg03/nlp-for-disaster-tweets                            NLP for Disaster Tweets                              8KB  2024-03-04 05:36:45             17        144  0.29411766       \n",
            "swaptr/turkey-earthquake-tweets                                 Turkey and Syria Earthquake Tweets                  50MB  2023-02-23 11:43:12           1514         57  1.0              \n",
            "sanjanabhute03/hackathon-disaste-tweet                          Disaster Tweets                                      2MB  2022-05-16 09:23:44            100          5  0.4117647        \n",
            "ulkutuncerkucuktas/turkey-earthquake-relief-tweets-dataset      Turkey Earthquake Relief Tweets Dataset             44KB  2023-02-09 23:58:15            628         35  1.0              \n",
            "soumyajitdatta/disastertweets                                   disaster-tweets                                    585KB  2022-06-26 11:15:57             53          8  0.1764706        \n",
            "georgepullen/disaster-tweets-fine-tuning                        Disaster Tweets Fine Tuning                        578KB  2023-06-12 18:48:45             27          6  0.8125           \n",
            "shresthapundir/keras-nlp-disaster-tweets                        Keras NLP Disaster Tweets                            8KB  2024-01-28 08:24:57              9         57  0.29411766       \n",
            "sveachawla/disaster-tweets                                      Disaster tweets                                      8KB  2024-02-23 09:42:21              2         12  0.23529412       \n",
            "herwinvw/disaster-tweets-geocoded-locations                     Disaster Tweets, geocoded locations                 81KB  2020-11-30 21:32:04             68          3  0.9411765        \n",
            "dipankarmitra/natural-language-processing-with-disaster-tweets  Natural Language Processing with Disaster Tweets   607KB  2021-06-28 08:08:42            397          4  0.3529412        \n",
            "xudongguo/disastertweets                                        disaster-tweets                                      8KB  2021-02-28 09:00:58             17          2  0.4375           \n",
            "team-ai/shinzo-abe-japanese-prime-minister-twitter-nlp          Shinzo Abe (Japanese Prime Minister) Twitter NLP    22KB  2017-10-27 05:33:18            957         22  0.7058824        \n",
            "hinamimi/nlpwithdisastertweets-searching-real-tweets            NLP-with-Disaster-Tweets: Searching Real Tweets    805KB  2020-09-13 05:34:42             99          4  0.3529412        \n",
            "cleytoncandeira/cleaning-tweet-disaster                         Disaster Tweets w/ Corrected Words                 571KB  2024-01-08 17:55:57             10          7  0.5294118        \n"
          ]
        }
      ],
      "source": [
        "!kaggle datasets list -s \"disaster tweets\""
      ]
    },
    {
      "cell_type": "code",
      "execution_count": null,
      "metadata": {
        "colab": {
          "base_uri": "https://localhost:8080/"
        },
        "id": "ytZUCmRmJ8Ml",
        "outputId": "45a52918-a8f5-4da8-fbdc-7f28f170beb3"
      },
      "outputs": [
        {
          "output_type": "stream",
          "name": "stdout",
          "text": [
            "Dataset URL: https://www.kaggle.com/datasets/vstepanenko/disaster-tweets\n",
            "License(s): CC0-1.0\n",
            "Downloading disaster-tweets.zip to /content\n",
            "  0% 0.00/656k [00:00<?, ?B/s]\n",
            "100% 656k/656k [00:00<00:00, 80.5MB/s]\n"
          ]
        }
      ],
      "source": [
        "!kaggle datasets download -d \"vstepanenko/disaster-tweets\""
      ]
    },
    {
      "cell_type": "code",
      "execution_count": null,
      "metadata": {
        "id": "TjdOjIPoKIwE"
      },
      "outputs": [],
      "source": [
        "zip_ref = zipfile.ZipFile(\"/content/disaster-tweets.zip\")\n",
        "zip_ref.extractall()\n",
        "zip_ref.close()"
      ]
    },
    {
      "cell_type": "code",
      "execution_count": null,
      "metadata": {
        "id": "NhJPj3fgKT_w"
      },
      "outputs": [],
      "source": [
        "dataframe = pd.read_csv(\"/content/tweets.csv\")\n",
        "dataframe = dataframe.drop(columns = [\"id\",\"keyword\",\"location\"])"
      ]
    },
    {
      "cell_type": "code",
      "execution_count": null,
      "metadata": {
        "colab": {
          "base_uri": "https://localhost:8080/",
          "height": 423
        },
        "id": "lRtjVTzGK9jf",
        "outputId": "9807a8c4-c62b-4a22-9e27-e89e31a5c141"
      },
      "outputs": [
        {
          "output_type": "execute_result",
          "data": {
            "text/plain": [
              "                                                    text  target\n",
              "0      Communal violence in Bhainsa, Telangana. \"Ston...       1\n",
              "1      Telangana: Section 144 has been imposed in Bha...       1\n",
              "2      Arsonist sets cars ablaze at dealership https:...       1\n",
              "3      Arsonist sets cars ablaze at dealership https:...       1\n",
              "4      \"Lord Jesus, your love brings freedom and pard...       0\n",
              "...                                                  ...     ...\n",
              "11365  Media should have warned us well in advance. T...       0\n",
              "11366  i feel directly attacked 💀 i consider moonbin ...       0\n",
              "11367  i feel directly attacked 💀 i consider moonbin ...       0\n",
              "11368  ok who remember \"outcast\" nd the \"dora\" au?? T...       0\n",
              "11369     Jake Corway wrecked while running 14th at IRP.       1\n",
              "\n",
              "[11370 rows x 2 columns]"
            ],
            "text/html": [
              "\n",
              "  <div id=\"df-1066e2e7-81ee-4112-8d62-12dae3644248\" class=\"colab-df-container\">\n",
              "    <div>\n",
              "<style scoped>\n",
              "    .dataframe tbody tr th:only-of-type {\n",
              "        vertical-align: middle;\n",
              "    }\n",
              "\n",
              "    .dataframe tbody tr th {\n",
              "        vertical-align: top;\n",
              "    }\n",
              "\n",
              "    .dataframe thead th {\n",
              "        text-align: right;\n",
              "    }\n",
              "</style>\n",
              "<table border=\"1\" class=\"dataframe\">\n",
              "  <thead>\n",
              "    <tr style=\"text-align: right;\">\n",
              "      <th></th>\n",
              "      <th>text</th>\n",
              "      <th>target</th>\n",
              "    </tr>\n",
              "  </thead>\n",
              "  <tbody>\n",
              "    <tr>\n",
              "      <th>0</th>\n",
              "      <td>Communal violence in Bhainsa, Telangana. \"Ston...</td>\n",
              "      <td>1</td>\n",
              "    </tr>\n",
              "    <tr>\n",
              "      <th>1</th>\n",
              "      <td>Telangana: Section 144 has been imposed in Bha...</td>\n",
              "      <td>1</td>\n",
              "    </tr>\n",
              "    <tr>\n",
              "      <th>2</th>\n",
              "      <td>Arsonist sets cars ablaze at dealership https:...</td>\n",
              "      <td>1</td>\n",
              "    </tr>\n",
              "    <tr>\n",
              "      <th>3</th>\n",
              "      <td>Arsonist sets cars ablaze at dealership https:...</td>\n",
              "      <td>1</td>\n",
              "    </tr>\n",
              "    <tr>\n",
              "      <th>4</th>\n",
              "      <td>\"Lord Jesus, your love brings freedom and pard...</td>\n",
              "      <td>0</td>\n",
              "    </tr>\n",
              "    <tr>\n",
              "      <th>...</th>\n",
              "      <td>...</td>\n",
              "      <td>...</td>\n",
              "    </tr>\n",
              "    <tr>\n",
              "      <th>11365</th>\n",
              "      <td>Media should have warned us well in advance. T...</td>\n",
              "      <td>0</td>\n",
              "    </tr>\n",
              "    <tr>\n",
              "      <th>11366</th>\n",
              "      <td>i feel directly attacked 💀 i consider moonbin ...</td>\n",
              "      <td>0</td>\n",
              "    </tr>\n",
              "    <tr>\n",
              "      <th>11367</th>\n",
              "      <td>i feel directly attacked 💀 i consider moonbin ...</td>\n",
              "      <td>0</td>\n",
              "    </tr>\n",
              "    <tr>\n",
              "      <th>11368</th>\n",
              "      <td>ok who remember \"outcast\" nd the \"dora\" au?? T...</td>\n",
              "      <td>0</td>\n",
              "    </tr>\n",
              "    <tr>\n",
              "      <th>11369</th>\n",
              "      <td>Jake Corway wrecked while running 14th at IRP.</td>\n",
              "      <td>1</td>\n",
              "    </tr>\n",
              "  </tbody>\n",
              "</table>\n",
              "<p>11370 rows × 2 columns</p>\n",
              "</div>\n",
              "    <div class=\"colab-df-buttons\">\n",
              "\n",
              "  <div class=\"colab-df-container\">\n",
              "    <button class=\"colab-df-convert\" onclick=\"convertToInteractive('df-1066e2e7-81ee-4112-8d62-12dae3644248')\"\n",
              "            title=\"Convert this dataframe to an interactive table.\"\n",
              "            style=\"display:none;\">\n",
              "\n",
              "  <svg xmlns=\"http://www.w3.org/2000/svg\" height=\"24px\" viewBox=\"0 -960 960 960\">\n",
              "    <path d=\"M120-120v-720h720v720H120Zm60-500h600v-160H180v160Zm220 220h160v-160H400v160Zm0 220h160v-160H400v160ZM180-400h160v-160H180v160Zm440 0h160v-160H620v160ZM180-180h160v-160H180v160Zm440 0h160v-160H620v160Z\"/>\n",
              "  </svg>\n",
              "    </button>\n",
              "\n",
              "  <style>\n",
              "    .colab-df-container {\n",
              "      display:flex;\n",
              "      gap: 12px;\n",
              "    }\n",
              "\n",
              "    .colab-df-convert {\n",
              "      background-color: #E8F0FE;\n",
              "      border: none;\n",
              "      border-radius: 50%;\n",
              "      cursor: pointer;\n",
              "      display: none;\n",
              "      fill: #1967D2;\n",
              "      height: 32px;\n",
              "      padding: 0 0 0 0;\n",
              "      width: 32px;\n",
              "    }\n",
              "\n",
              "    .colab-df-convert:hover {\n",
              "      background-color: #E2EBFA;\n",
              "      box-shadow: 0px 1px 2px rgba(60, 64, 67, 0.3), 0px 1px 3px 1px rgba(60, 64, 67, 0.15);\n",
              "      fill: #174EA6;\n",
              "    }\n",
              "\n",
              "    .colab-df-buttons div {\n",
              "      margin-bottom: 4px;\n",
              "    }\n",
              "\n",
              "    [theme=dark] .colab-df-convert {\n",
              "      background-color: #3B4455;\n",
              "      fill: #D2E3FC;\n",
              "    }\n",
              "\n",
              "    [theme=dark] .colab-df-convert:hover {\n",
              "      background-color: #434B5C;\n",
              "      box-shadow: 0px 1px 3px 1px rgba(0, 0, 0, 0.15);\n",
              "      filter: drop-shadow(0px 1px 2px rgba(0, 0, 0, 0.3));\n",
              "      fill: #FFFFFF;\n",
              "    }\n",
              "  </style>\n",
              "\n",
              "    <script>\n",
              "      const buttonEl =\n",
              "        document.querySelector('#df-1066e2e7-81ee-4112-8d62-12dae3644248 button.colab-df-convert');\n",
              "      buttonEl.style.display =\n",
              "        google.colab.kernel.accessAllowed ? 'block' : 'none';\n",
              "\n",
              "      async function convertToInteractive(key) {\n",
              "        const element = document.querySelector('#df-1066e2e7-81ee-4112-8d62-12dae3644248');\n",
              "        const dataTable =\n",
              "          await google.colab.kernel.invokeFunction('convertToInteractive',\n",
              "                                                    [key], {});\n",
              "        if (!dataTable) return;\n",
              "\n",
              "        const docLinkHtml = 'Like what you see? Visit the ' +\n",
              "          '<a target=\"_blank\" href=https://colab.research.google.com/notebooks/data_table.ipynb>data table notebook</a>'\n",
              "          + ' to learn more about interactive tables.';\n",
              "        element.innerHTML = '';\n",
              "        dataTable['output_type'] = 'display_data';\n",
              "        await google.colab.output.renderOutput(dataTable, element);\n",
              "        const docLink = document.createElement('div');\n",
              "        docLink.innerHTML = docLinkHtml;\n",
              "        element.appendChild(docLink);\n",
              "      }\n",
              "    </script>\n",
              "  </div>\n",
              "\n",
              "\n",
              "<div id=\"df-8f050804-4cc9-45ee-a166-2d1c970312e9\">\n",
              "  <button class=\"colab-df-quickchart\" onclick=\"quickchart('df-8f050804-4cc9-45ee-a166-2d1c970312e9')\"\n",
              "            title=\"Suggest charts\"\n",
              "            style=\"display:none;\">\n",
              "\n",
              "<svg xmlns=\"http://www.w3.org/2000/svg\" height=\"24px\"viewBox=\"0 0 24 24\"\n",
              "     width=\"24px\">\n",
              "    <g>\n",
              "        <path d=\"M19 3H5c-1.1 0-2 .9-2 2v14c0 1.1.9 2 2 2h14c1.1 0 2-.9 2-2V5c0-1.1-.9-2-2-2zM9 17H7v-7h2v7zm4 0h-2V7h2v10zm4 0h-2v-4h2v4z\"/>\n",
              "    </g>\n",
              "</svg>\n",
              "  </button>\n",
              "\n",
              "<style>\n",
              "  .colab-df-quickchart {\n",
              "      --bg-color: #E8F0FE;\n",
              "      --fill-color: #1967D2;\n",
              "      --hover-bg-color: #E2EBFA;\n",
              "      --hover-fill-color: #174EA6;\n",
              "      --disabled-fill-color: #AAA;\n",
              "      --disabled-bg-color: #DDD;\n",
              "  }\n",
              "\n",
              "  [theme=dark] .colab-df-quickchart {\n",
              "      --bg-color: #3B4455;\n",
              "      --fill-color: #D2E3FC;\n",
              "      --hover-bg-color: #434B5C;\n",
              "      --hover-fill-color: #FFFFFF;\n",
              "      --disabled-bg-color: #3B4455;\n",
              "      --disabled-fill-color: #666;\n",
              "  }\n",
              "\n",
              "  .colab-df-quickchart {\n",
              "    background-color: var(--bg-color);\n",
              "    border: none;\n",
              "    border-radius: 50%;\n",
              "    cursor: pointer;\n",
              "    display: none;\n",
              "    fill: var(--fill-color);\n",
              "    height: 32px;\n",
              "    padding: 0;\n",
              "    width: 32px;\n",
              "  }\n",
              "\n",
              "  .colab-df-quickchart:hover {\n",
              "    background-color: var(--hover-bg-color);\n",
              "    box-shadow: 0 1px 2px rgba(60, 64, 67, 0.3), 0 1px 3px 1px rgba(60, 64, 67, 0.15);\n",
              "    fill: var(--button-hover-fill-color);\n",
              "  }\n",
              "\n",
              "  .colab-df-quickchart-complete:disabled,\n",
              "  .colab-df-quickchart-complete:disabled:hover {\n",
              "    background-color: var(--disabled-bg-color);\n",
              "    fill: var(--disabled-fill-color);\n",
              "    box-shadow: none;\n",
              "  }\n",
              "\n",
              "  .colab-df-spinner {\n",
              "    border: 2px solid var(--fill-color);\n",
              "    border-color: transparent;\n",
              "    border-bottom-color: var(--fill-color);\n",
              "    animation:\n",
              "      spin 1s steps(1) infinite;\n",
              "  }\n",
              "\n",
              "  @keyframes spin {\n",
              "    0% {\n",
              "      border-color: transparent;\n",
              "      border-bottom-color: var(--fill-color);\n",
              "      border-left-color: var(--fill-color);\n",
              "    }\n",
              "    20% {\n",
              "      border-color: transparent;\n",
              "      border-left-color: var(--fill-color);\n",
              "      border-top-color: var(--fill-color);\n",
              "    }\n",
              "    30% {\n",
              "      border-color: transparent;\n",
              "      border-left-color: var(--fill-color);\n",
              "      border-top-color: var(--fill-color);\n",
              "      border-right-color: var(--fill-color);\n",
              "    }\n",
              "    40% {\n",
              "      border-color: transparent;\n",
              "      border-right-color: var(--fill-color);\n",
              "      border-top-color: var(--fill-color);\n",
              "    }\n",
              "    60% {\n",
              "      border-color: transparent;\n",
              "      border-right-color: var(--fill-color);\n",
              "    }\n",
              "    80% {\n",
              "      border-color: transparent;\n",
              "      border-right-color: var(--fill-color);\n",
              "      border-bottom-color: var(--fill-color);\n",
              "    }\n",
              "    90% {\n",
              "      border-color: transparent;\n",
              "      border-bottom-color: var(--fill-color);\n",
              "    }\n",
              "  }\n",
              "</style>\n",
              "\n",
              "  <script>\n",
              "    async function quickchart(key) {\n",
              "      const quickchartButtonEl =\n",
              "        document.querySelector('#' + key + ' button');\n",
              "      quickchartButtonEl.disabled = true;  // To prevent multiple clicks.\n",
              "      quickchartButtonEl.classList.add('colab-df-spinner');\n",
              "      try {\n",
              "        const charts = await google.colab.kernel.invokeFunction(\n",
              "            'suggestCharts', [key], {});\n",
              "      } catch (error) {\n",
              "        console.error('Error during call to suggestCharts:', error);\n",
              "      }\n",
              "      quickchartButtonEl.classList.remove('colab-df-spinner');\n",
              "      quickchartButtonEl.classList.add('colab-df-quickchart-complete');\n",
              "    }\n",
              "    (() => {\n",
              "      let quickchartButtonEl =\n",
              "        document.querySelector('#df-8f050804-4cc9-45ee-a166-2d1c970312e9 button');\n",
              "      quickchartButtonEl.style.display =\n",
              "        google.colab.kernel.accessAllowed ? 'block' : 'none';\n",
              "    })();\n",
              "  </script>\n",
              "</div>\n",
              "\n",
              "  <div id=\"id_1686c724-3e99-4e3b-b700-8e611dbd437b\">\n",
              "    <style>\n",
              "      .colab-df-generate {\n",
              "        background-color: #E8F0FE;\n",
              "        border: none;\n",
              "        border-radius: 50%;\n",
              "        cursor: pointer;\n",
              "        display: none;\n",
              "        fill: #1967D2;\n",
              "        height: 32px;\n",
              "        padding: 0 0 0 0;\n",
              "        width: 32px;\n",
              "      }\n",
              "\n",
              "      .colab-df-generate:hover {\n",
              "        background-color: #E2EBFA;\n",
              "        box-shadow: 0px 1px 2px rgba(60, 64, 67, 0.3), 0px 1px 3px 1px rgba(60, 64, 67, 0.15);\n",
              "        fill: #174EA6;\n",
              "      }\n",
              "\n",
              "      [theme=dark] .colab-df-generate {\n",
              "        background-color: #3B4455;\n",
              "        fill: #D2E3FC;\n",
              "      }\n",
              "\n",
              "      [theme=dark] .colab-df-generate:hover {\n",
              "        background-color: #434B5C;\n",
              "        box-shadow: 0px 1px 3px 1px rgba(0, 0, 0, 0.15);\n",
              "        filter: drop-shadow(0px 1px 2px rgba(0, 0, 0, 0.3));\n",
              "        fill: #FFFFFF;\n",
              "      }\n",
              "    </style>\n",
              "    <button class=\"colab-df-generate\" onclick=\"generateWithVariable('dataframe')\"\n",
              "            title=\"Generate code using this dataframe.\"\n",
              "            style=\"display:none;\">\n",
              "\n",
              "  <svg xmlns=\"http://www.w3.org/2000/svg\" height=\"24px\"viewBox=\"0 0 24 24\"\n",
              "       width=\"24px\">\n",
              "    <path d=\"M7,19H8.4L18.45,9,17,7.55,7,17.6ZM5,21V16.75L18.45,3.32a2,2,0,0,1,2.83,0l1.4,1.43a1.91,1.91,0,0,1,.58,1.4,1.91,1.91,0,0,1-.58,1.4L9.25,21ZM18.45,9,17,7.55Zm-12,3A5.31,5.31,0,0,0,4.9,8.1,5.31,5.31,0,0,0,1,6.5,5.31,5.31,0,0,0,4.9,4.9,5.31,5.31,0,0,0,6.5,1,5.31,5.31,0,0,0,8.1,4.9,5.31,5.31,0,0,0,12,6.5,5.46,5.46,0,0,0,6.5,12Z\"/>\n",
              "  </svg>\n",
              "    </button>\n",
              "    <script>\n",
              "      (() => {\n",
              "      const buttonEl =\n",
              "        document.querySelector('#id_1686c724-3e99-4e3b-b700-8e611dbd437b button.colab-df-generate');\n",
              "      buttonEl.style.display =\n",
              "        google.colab.kernel.accessAllowed ? 'block' : 'none';\n",
              "\n",
              "      buttonEl.onclick = () => {\n",
              "        google.colab.notebook.generateWithVariable('dataframe');\n",
              "      }\n",
              "      })();\n",
              "    </script>\n",
              "  </div>\n",
              "\n",
              "    </div>\n",
              "  </div>\n"
            ],
            "application/vnd.google.colaboratory.intrinsic+json": {
              "type": "dataframe",
              "variable_name": "dataframe",
              "summary": "{\n  \"name\": \"dataframe\",\n  \"rows\": 11370,\n  \"fields\": [\n    {\n      \"column\": \"text\",\n      \"properties\": {\n        \"dtype\": \"string\",\n        \"num_unique_values\": 11223,\n        \"samples\": [\n          \"Stretcher \\ud83d\\ude02\",\n          \"Blazing Saddles' at 45: The Movie That Couldn't Get Made Today https://t.co/Jmf8s1VZtJ #NewsandPolitics via\",\n          \"Huh. I guess people are not suffering so it cant be called a tragedy. Youre completely blinded by your o\\u2026 https://t.co/3es4YfcAhz\"\n        ],\n        \"semantic_type\": \"\",\n        \"description\": \"\"\n      }\n    },\n    {\n      \"column\": \"target\",\n      \"properties\": {\n        \"dtype\": \"number\",\n        \"std\": 0,\n        \"min\": 0,\n        \"max\": 1,\n        \"num_unique_values\": 2,\n        \"samples\": [\n          0,\n          1\n        ],\n        \"semantic_type\": \"\",\n        \"description\": \"\"\n      }\n    }\n  ]\n}"
            }
          },
          "metadata": {},
          "execution_count": 23
        }
      ],
      "source": [
        "dataframe"
      ]
    },
    {
      "cell_type": "code",
      "execution_count": null,
      "metadata": {
        "colab": {
          "base_uri": "https://localhost:8080/"
        },
        "id": "NZ-YbNL4K_dF",
        "outputId": "dbb679fc-522a-45dd-8c80-d298c7243db5"
      },
      "outputs": [
        {
          "output_type": "stream",
          "name": "stdout",
          "text": [
            "Text:-\n",
            "Design of AR-15 could derail charges tied to popular rifle https://t.co/zsZ0G6L7wX #10TV https://t.co/VyQ8uNCJC4\n",
            "\n",
            "label:-\n",
            "not_disaster\n",
            "\n",
            "-------------\n",
            "\n",
            "Text:-\n",
            "Parkway Drive Donated $34,000 to Australian Wildfire Relief : https://t.co/ffKKglU5tr\n",
            "\n",
            "label:-\n",
            "not_disaster\n",
            "\n",
            "-------------\n",
            "\n",
            "Text:-\n",
            "Then you'd get a bag of broken crisps all sitting in the bottom of the bag. The air is… https://t.co/cmQv2PnfIq\n",
            "\n",
            "label:-\n",
            "not_disaster\n",
            "\n",
            "-------------\n",
            "\n",
            "Text:-\n",
            "ATTENTION TO ALL FANS: if you guys want to buy his koala merch you can at ---&gt;https://t.co/GMdKv4Bg3j o… https://t.co/AIdKOdAOjY\n",
            "\n",
            "label:-\n",
            "not_disaster\n",
            "\n",
            "-------------\n",
            "\n",
            "Text:-\n",
            "A person could theoretically say \"Trump will attack a female nominee just like he did Hillary\" - I hear peopl…\n",
            "\n",
            "label:-\n",
            "not_disaster\n",
            "\n",
            "-------------\n",
            "\n",
            "Text:-\n",
            "ROAD CLOSURE: Reiter Rd is closed about 2 miles east of May Creek Rd for a mudslide that is fully blocking the roadway. T…\n",
            "\n",
            "label:-\n",
            "disaster\n",
            "-------------\n",
            "\n",
            "Text:-\n",
            "Does any know how to get the galaxy Far Far away trophy I’m having trouble\n",
            "\n",
            "label:-\n",
            "not_disaster\n",
            "\n",
            "-------------\n",
            "\n",
            "Text:-\n",
            "Good lord, the Sunday news. Reminds me of a Soviet joke. A listener calls the radio: - \"Comrades, will there be war?\" - \"…\n",
            "\n",
            "label:-\n",
            "not_disaster\n",
            "\n",
            "-------------\n",
            "\n",
            "Text:-\n",
            "Blazing #MayWardLoveForReal #PUSHAwardsMayWards\n",
            "\n",
            "label:-\n",
            "not_disaster\n",
            "\n",
            "-------------\n",
            "\n",
            "Text:-\n",
            "The inquiry will show an alarming increase in the n… https://t.co/VAN8Gf8Cx3\n",
            "\n",
            "label:-\n",
            "disaster\n",
            "-------------\n",
            "\n"
          ]
        }
      ],
      "source": [
        "text = dataframe[\"text\"].to_numpy()\n",
        "target = dataframe[\"target\"].to_numpy()\n",
        "for i in range(10):\n",
        "  rand = random.randint(0,len(dataframe[\"text\"].to_numpy()))\n",
        "  print(f\"Text:-\\n{text[rand]}\\n\")\n",
        "  print(\"label:-\")\n",
        "  print(\"disaster\" if target[rand] == 1 else \"not_disaster\\n\")\n",
        "  print(f\"-------------\\n\")"
      ]
    },
    {
      "cell_type": "code",
      "execution_count": null,
      "metadata": {
        "colab": {
          "base_uri": "https://localhost:8080/"
        },
        "id": "AENlumZ-OOoQ",
        "outputId": "7a31818a-7d8a-4c37-9dd4-4d01c0bff4cb"
      },
      "outputs": [
        {
          "output_type": "execute_result",
          "data": {
            "text/plain": [
              "11370"
            ]
          },
          "metadata": {},
          "execution_count": 25
        }
      ],
      "source": [
        "len(text)"
      ]
    },
    {
      "cell_type": "code",
      "execution_count": null,
      "metadata": {
        "colab": {
          "base_uri": "https://localhost:8080/",
          "height": 499
        },
        "id": "NlzphBeTOSbZ",
        "outputId": "4cc93e83-1f90-484f-92c1-96e197420093"
      },
      "outputs": [
        {
          "output_type": "execute_result",
          "data": {
            "text/plain": [
              "(array([ 295.,  539.,  770., 1128., 1476., 2477., 3075., 1374.,  222.,\n",
              "          14.]),\n",
              " array([ 1. ,  4.1,  7.2, 10.3, 13.4, 16.5, 19.6, 22.7, 25.8, 28.9, 32. ]),\n",
              " <BarContainer object of 10 artists>)"
            ]
          },
          "metadata": {},
          "execution_count": 26
        },
        {
          "output_type": "display_data",
          "data": {
            "text/plain": [
              "<Figure size 640x480 with 1 Axes>"
            ],
            "image/png": "[encoded data removed]"
          },
          "metadata": {}
        }
      ],
      "source": [
        "len_of_word = [len(i.split()) for i in text]\n",
        "plt.hist(len_of_word)"
      ]
    },
    {
      "cell_type": "code",
      "execution_count": null,
      "metadata": {
        "colab": {
          "base_uri": "https://localhost:8080/"
        },
        "id": "i3yLuSiNOjxK",
        "outputId": "20a77fed-3593-4f2d-d357-0c1e8dc056c2"
      },
      "outputs": [
        {
          "output_type": "execute_result",
          "data": {
            "text/plain": [
              "26.0"
            ]
          },
          "metadata": {},
          "execution_count": 27
        }
      ],
      "source": [
        "np.percentile(len_of_word,98)"
      ]
    },
    {
      "cell_type": "code",
      "source": [
        "len(text)"
      ],
      "metadata": {
        "colab": {
          "base_uri": "https://localhost:8080/"
        },
        "id": "YUA2pqmTP1C1",
        "outputId": "d05e4955-5f4e-4382-e1f3-cfdabda4c6f1"
      },
      "execution_count": null,
      "outputs": [
        {
          "output_type": "execute_result",
          "data": {
            "text/plain": [
              "11370"
            ]
          },
          "metadata": {},
          "execution_count": 28
        }
      ]
    },
    {
      "cell_type": "code",
      "execution_count": null,
      "metadata": {
        "id": "7vYBs3DIOofB"
      },
      "outputs": [],
      "source": [
        "from tensorflow.keras.layers import TextVectorization\n",
        "text_vect = TextVectorization(max_tokens = 3000,\n",
        "                              output_sequence_length = 26\n",
        "                              )"
      ]
    },
    {
      "cell_type": "code",
      "execution_count": null,
      "metadata": {
        "id": "SapkzyFKO5tW"
      },
      "outputs": [],
      "source": [
        "text_vect.adapt(text)"
      ]
    },
    {
      "cell_type": "code",
      "execution_count": null,
      "metadata": {
        "colab": {
          "base_uri": "https://localhost:8080/"
        },
        "id": "z6BkgrRsPDws",
        "outputId": "dc53a5da-d79a-430e-b973-22e3cfcf6e24"
      },
      "outputs": [
        {
          "output_type": "stream",
          "name": "stdout",
          "text": [
            "Text:-\n",
            "Hey Anne Jesus was not a refugee (a person who has been forced to leave their country in order to escape w…\n",
            "\n",
            "Text_Vect:-\n",
            "[[614   1 893  18  26   4   1   4 389  41  30  49 896   3 591  60 205   6\n",
            "  803   3   1 277   0   0   0   0]]\n",
            "\n",
            "-------------\n",
            "\n",
            "Text:-\n",
            "1) evacuate austrailia 2) gather up the combined nuclear stockpile of the world instead of shooting them at each o… https://t.co/UJlMGcdVrz\n",
            "\n",
            "Text_Vect:-\n",
            "[[109 929   1  91   1  50   2   1 138   1   5   2 136 773   5 662  85  20\n",
            "  741 343   1   0   0   0   0   0]]\n",
            "\n",
            "-------------\n",
            "\n",
            "Text:-\n",
            "GIVE ME BIG SALAMI OR I SHOOT THE HOSTAGES\n",
            "\n",
            "Text_Vect:-\n",
            "[[ 422   38  292    1   57    9 1547    2  691    0    0    0    0    0\n",
            "     0    0    0    0    0    0    0    0    0    0    0    0]]\n",
            "\n",
            "-------------\n",
            "\n",
            "Text:-\n",
            "\"How Insects Cope When Blood Rushes to Their Heads\" by BY JAMES GORMAN via NYT https://t.co/zc5iRNQRCo https://t.co/25iqCKNiwj\n",
            "\n",
            "Text_Vect:-\n",
            "[[  58    1    1   42  300    1    3   60 2440   24   24 2427    1  187\n",
            "     1    1    1    0    0    0    0    0    0    0    0    0]]\n",
            "\n",
            "-------------\n",
            "\n",
            "Text:-\n",
            "Derailment at Hitchin. All trains delayed 😩\n",
            "\n",
            "Text_Vect:-\n",
            "[[ 446   20  533   32 1454 2756 2826    0    0    0    0    0    0    0\n",
            "     0    0    0    0    0    0    0    0    0    0    0    0]]\n",
            "\n",
            "-------------\n",
            "\n",
            "Text:-\n",
            "The viral false claim that nearly 200 arsonists are behind the Australia fires, explained https://t.co/V8mJfFmBPh HANNITY…\n",
            "\n",
            "Text_Vect:-\n",
            "[[   2 2546 1285 1623   13  648 1527    1   17  655    2  121  106    1\n",
            "     1    1    0    0    0    0    0    0    0    0    0    0]]\n",
            "\n",
            "-------------\n",
            "\n",
            "Text:-\n",
            "How The Feature That Almost Sunk Disco Elysium Was Made - GameSpot https://t.co/uW0OCKfW4z\n",
            "\n",
            "Text_Vect:-\n",
            "[[  58    2 2732   13  350  406    1    1   18  186    1    1    0    0\n",
            "     0    0    0    0    0    0    0    0    0    0    0    0]]\n",
            "\n",
            "-------------\n",
            "\n",
            "Text:-\n",
            "I wonder what its like to survive a standby 🤔🙄\n",
            "\n",
            "Text_Vect:-\n",
            "[[  9 906  55  48  39   3 484   4   1   1   0   0   0   0   0   0   0   0\n",
            "    0   0   0   0   0   0   0   0]]\n",
            "\n",
            "-------------\n",
            "\n",
            "Text:-\n",
            "Yer severe Ambulance ramping, under funding/resourcing… https://t.co/kpenM6wiej\n",
            "\n",
            "Text_Vect:-\n",
            "[[  1 255 657   1 184   1   1   0   0   0   0   0   0   0   0   0   0   0\n",
            "    0   0   0   0   0   0   0   0]]\n",
            "\n",
            "-------------\n",
            "\n",
            "Text:-\n",
            "It's been 1 month since Ryan proposed to me and I'm still an absolute emotional wreck, cannot and will not stop cry… https://t.co/hPr3rBSmg5\n",
            "\n",
            "Text_Vect:-\n",
            "[[  48   49  109 1896  171    1    1    3   38    7   70   93   29 2306\n",
            "     1  565  719    7   37   26  225    1    1    0    0    0]]\n",
            "\n",
            "-------------\n",
            "\n"
          ]
        }
      ],
      "source": [
        "for i in range(10):\n",
        "  rand = random.randint(0,len(dataframe[\"text\"].to_numpy()))\n",
        "  print(f\"Text:-\\n{text[rand]}\\n\")\n",
        "  print(f\"Text_Vect:-\\n{text_vect([text[rand]])}\\n\")\n",
        "  print(f\"-------------\\n\")"
      ]
    },
    {
      "cell_type": "code",
      "execution_count": null,
      "metadata": {
        "colab": {
          "base_uri": "https://localhost:8080/"
        },
        "id": "TLW8Qu7APZSv",
        "outputId": "a7b807ff-ee60-4684-cd96-28c4ec3574d2"
      },
      "outputs": [
        {
          "output_type": "execute_result",
          "data": {
            "text/plain": [
              "['', '[UNK]', 'the', 'to', 'a', 'of', 'in', 'and', 'is', 'i']"
            ]
          },
          "metadata": {},
          "execution_count": 32
        }
      ],
      "source": [
        "text_vect.get_vocabulary()[:10]"
      ]
    },
    {
      "cell_type": "code",
      "execution_count": null,
      "metadata": {
        "colab": {
          "base_uri": "https://localhost:8080/"
        },
        "id": "TcRvP5FqPgXA",
        "outputId": "54d5fe63-065d-44e9-890c-ab069aec04fe"
      },
      "outputs": [
        {
          "output_type": "execute_result",
          "data": {
            "text/plain": [
              "['key',\n",
              " 'kashmiri',\n",
              " 'jungkook',\n",
              " 'journey',\n",
              " 'j4',\n",
              " 'islamabad',\n",
              " 'investigating',\n",
              " 'investigate',\n",
              " 'interested',\n",
              " 'intended']"
            ]
          },
          "metadata": {},
          "execution_count": 33
        }
      ],
      "source": [
        "text_vect.get_vocabulary()[-10:]"
      ]
    },
    {
      "cell_type": "code",
      "execution_count": null,
      "metadata": {
        "id": "-9NKy4kjPwwF"
      },
      "outputs": [],
      "source": [
        "from tensorflow.keras.layers import Embedding\n",
        "embed_layer = Embedding(input_dim = 3000,\n",
        "                        output_dim = 8\n",
        "                        )"
      ]
    },
    {
      "cell_type": "code",
      "execution_count": null,
      "metadata": {
        "id": "HQT91OfyQRtv"
      },
      "outputs": [],
      "source": [
        "from sklearn.feature_extraction.text import TfidfVectorizer\n",
        "from sklearn.naive_bayes import MultinomialNB\n",
        "from sklearn.pipeline import Pipeline"
      ]
    },
    {
      "cell_type": "code",
      "execution_count": null,
      "metadata": {
        "id": "4F1NfzhZS-RJ"
      },
      "outputs": [],
      "source": [
        "def split(x,y):\n",
        "  train_size = int(0.6*len(text))\n",
        "  train_data = x[:train_size]\n",
        "  test_data = x[train_size:]\n",
        "  train_label = y[:train_size]\n",
        "  test_label = y[train_size:]\n",
        "  return train_data,test_data,train_label,test_label"
      ]
    },
    {
      "cell_type": "code",
      "execution_count": null,
      "metadata": {
        "id": "AzmuiM7pUrR6"
      },
      "outputs": [],
      "source": [
        "train_data,test_data,train_label,test_label = split(text,target)"
      ]
    },
    {
      "cell_type": "code",
      "source": [
        "len(train_data),len(train_label),len(test_data),len(test_label)"
      ],
      "metadata": {
        "colab": {
          "base_uri": "https://localhost:8080/"
        },
        "id": "S9-mQHwvJ2te",
        "outputId": "0a3837f6-adb6-41e6-8cf6-98d840b735ad"
      },
      "execution_count": null,
      "outputs": [
        {
          "output_type": "execute_result",
          "data": {
            "text/plain": [
              "(6822, 6822, 4548, 4548)"
            ]
          },
          "metadata": {},
          "execution_count": 38
        }
      ]
    },
    {
      "cell_type": "code",
      "execution_count": null,
      "metadata": {
        "id": "a_Zsrh4SUzLx"
      },
      "outputs": [],
      "source": [
        "train_dataset = tf.data.Dataset.from_tensor_slices((train_data,train_label)).shuffle(1000).batch(32).prefetch(tf.data.AUTOTUNE)\n",
        "test_dataset = tf.data.Dataset.from_tensor_slices((test_data,test_label)).shuffle(1000).batch(32).prefetch(tf.data.AUTOTUNE)"
      ]
    },
    {
      "cell_type": "code",
      "execution_count": null,
      "metadata": {
        "colab": {
          "base_uri": "https://localhost:8080/",
          "height": 125
        },
        "id": "QpaUNao3Sc2n",
        "outputId": "98a9e1d1-4a4b-43a8-e8aa-339bac7e941b"
      },
      "outputs": [
        {
          "output_type": "execute_result",
          "data": {
            "text/plain": [
              "Pipeline(steps=[('tfidf', TfidfVectorizer()), ('clf', MultinomialNB())])"
            ],
            "text/html": [
              "<style>#sk-container-id-1 {color: black;background-color: white;}#sk-container-id-1 pre{padding: 0;}#sk-container-id-1 div.sk-toggleable {background-color: white;}#sk-container-id-1 label.sk-toggleable__label {cursor: pointer;display: block;width: 100%;margin-bottom: 0;padding: 0.3em;box-sizing: border-box;text-align: center;}#sk-container-id-1 label.sk-toggleable__label-arrow:before {content: \"▸\";float: left;margin-right: 0.25em;color: #696969;}#sk-container-id-1 label.sk-toggleable__label-arrow:hover:before {color: black;}#sk-container-id-1 div.sk-estimator:hover label.sk-toggleable__label-arrow:before {color: black;}#sk-container-id-1 div.sk-toggleable__content {max-height: 0;max-width: 0;overflow: hidden;text-align: left;background-color: #f0f8ff;}#sk-container-id-1 div.sk-toggleable__content pre {margin: 0.2em;color: black;border-radius: 0.25em;background-color: #f0f8ff;}#sk-container-id-1 input.sk-toggleable__control:checked~div.sk-toggleable__content {max-height: 200px;max-width: 100%;overflow: auto;}#sk-container-id-1 input.sk-toggleable__control:checked~label.sk-toggleable__label-arrow:before {content: \"▾\";}#sk-container-id-1 div.sk-estimator input.sk-toggleable__control:checked~label.sk-toggleable__label {background-color: #d4ebff;}#sk-container-id-1 div.sk-label input.sk-toggleable__control:checked~label.sk-toggleable__label {background-color: #d4ebff;}#sk-container-id-1 input.sk-hidden--visually {border: 0;clip: rect(1px 1px 1px 1px);clip: rect(1px, 1px, 1px, 1px);height: 1px;margin: -1px;overflow: hidden;padding: 0;position: absolute;width: 1px;}#sk-container-id-1 div.sk-estimator {font-family: monospace;background-color: #f0f8ff;border: 1px dotted black;border-radius: 0.25em;box-sizing: border-box;margin-bottom: 0.5em;}#sk-container-id-1 div.sk-estimator:hover {background-color: #d4ebff;}#sk-container-id-1 div.sk-parallel-item::after {content: \"\";width: 100%;border-bottom: 1px solid gray;flex-grow: 1;}#sk-container-id-1 div.sk-label:hover label.sk-toggleable__label {background-color: #d4ebff;}#sk-container-id-1 div.sk-serial::before {content: \"\";position: absolute;border-left: 1px solid gray;box-sizing: border-box;top: 0;bottom: 0;left: 50%;z-index: 0;}#sk-container-id-1 div.sk-serial {display: flex;flex-direction: column;align-items: center;background-color: white;padding-right: 0.2em;padding-left: 0.2em;position: relative;}#sk-container-id-1 div.sk-item {position: relative;z-index: 1;}#sk-container-id-1 div.sk-parallel {display: flex;align-items: stretch;justify-content: center;background-color: white;position: relative;}#sk-container-id-1 div.sk-item::before, #sk-container-id-1 div.sk-parallel-item::before {content: \"\";position: absolute;border-left: 1px solid gray;box-sizing: border-box;top: 0;bottom: 0;left: 50%;z-index: -1;}#sk-container-id-1 div.sk-parallel-item {display: flex;flex-direction: column;z-index: 1;position: relative;background-color: white;}#sk-container-id-1 div.sk-parallel-item:first-child::after {align-self: flex-end;width: 50%;}#sk-container-id-1 div.sk-parallel-item:last-child::after {align-self: flex-start;width: 50%;}#sk-container-id-1 div.sk-parallel-item:only-child::after {width: 0;}#sk-container-id-1 div.sk-dashed-wrapped {border: 1px dashed gray;margin: 0 0.4em 0.5em 0.4em;box-sizing: border-box;padding-bottom: 0.4em;background-color: white;}#sk-container-id-1 div.sk-label label {font-family: monospace;font-weight: bold;display: inline-block;line-height: 1.2em;}#sk-container-id-1 div.sk-label-container {text-align: center;}#sk-container-id-1 div.sk-container {/* jupyter's `normalize.less` sets `[hidden] { display: none; }` but bootstrap.min.css set `[hidden] { display: none !important; }` so we also need the `!important` here to be able to override the default hidden behavior on the sphinx rendered scikit-learn.org. See: https://github.com/scikit-learn/scikit-learn/issues/21755 */display: inline-block !important;position: relative;}#sk-container-id-1 div.sk-text-repr-fallback {display: none;}</style><div id=\"sk-container-id-1\" class=\"sk-top-container\"><div class=\"sk-text-repr-fallback\"><pre>Pipeline(steps=[(&#x27;tfidf&#x27;, TfidfVectorizer()), (&#x27;clf&#x27;, MultinomialNB())])</pre><b>In a Jupyter environment, please rerun this cell to show the HTML representation or trust the notebook. <br />On GitHub, the HTML representation is unable to render, please try loading this page with nbviewer.org.</b></div><div class=\"sk-container\" hidden><div class=\"sk-item sk-dashed-wrapped\"><div class=\"sk-label-container\"><div class=\"sk-label sk-toggleable\"><input class=\"sk-toggleable__control sk-hidden--visually\" id=\"sk-estimator-id-1\" type=\"checkbox\" ><label for=\"sk-estimator-id-1\" class=\"sk-toggleable__label sk-toggleable__label-arrow\">Pipeline</label><div class=\"sk-toggleable__content\"><pre>Pipeline(steps=[(&#x27;tfidf&#x27;, TfidfVectorizer()), (&#x27;clf&#x27;, MultinomialNB())])</pre></div></div></div><div class=\"sk-serial\"><div class=\"sk-item\"><div class=\"sk-estimator sk-toggleable\"><input class=\"sk-toggleable__control sk-hidden--visually\" id=\"sk-estimator-id-2\" type=\"checkbox\" ><label for=\"sk-estimator-id-2\" class=\"sk-toggleable__label sk-toggleable__label-arrow\">TfidfVectorizer</label><div class=\"sk-toggleable__content\"><pre>TfidfVectorizer()</pre></div></div></div><div class=\"sk-item\"><div class=\"sk-estimator sk-toggleable\"><input class=\"sk-toggleable__control sk-hidden--visually\" id=\"sk-estimator-id-3\" type=\"checkbox\" ><label for=\"sk-estimator-id-3\" class=\"sk-toggleable__label sk-toggleable__label-arrow\">MultinomialNB</label><div class=\"sk-toggleable__content\"><pre>MultinomialNB()</pre></div></div></div></div></div></div></div>"
            ]
          },
          "metadata": {},
          "execution_count": 40
        }
      ],
      "source": [
        "model_0 = Pipeline([\n",
        "    (\"tfidf\",TfidfVectorizer()),\n",
        "    (\"clf\",MultinomialNB())\n",
        "])\n",
        "model_0.fit(train_data,train_label)"
      ]
    },
    {
      "cell_type": "code",
      "execution_count": null,
      "metadata": {
        "id": "Vi-7jdBZV5e6"
      },
      "outputs": [],
      "source": [
        "from sklearn.metrics import precision_recall_fscore_support,accuracy_score\n",
        "def evaluation_metrics(y_true,y_pred):\n",
        "  acc = accuracy_score(y_true,y_pred)\n",
        "  pre,rec,fscore,_ = precision_recall_fscore_support(y_true,y_pred,average = \"weighted\")\n",
        "  dic = {\n",
        "      \"precsion\":pre,\n",
        "      \"rec\":rec,\n",
        "      \"fscore\":fscore\n",
        "  }\n",
        "  return dic"
      ]
    },
    {
      "cell_type": "code",
      "execution_count": null,
      "metadata": {
        "id": "-RInsrf6Y8Ax"
      },
      "outputs": [],
      "source": [
        "y_pred_0 = model_0.predict(test_data)"
      ]
    },
    {
      "cell_type": "code",
      "execution_count": null,
      "metadata": {
        "id": "kUWs3qmrYwij"
      },
      "outputs": [],
      "source": [
        "model_0_result = evaluation_metrics(y_true = test_label,y_pred = y_pred_0)"
      ]
    },
    {
      "cell_type": "code",
      "execution_count": null,
      "metadata": {
        "colab": {
          "base_uri": "https://localhost:8080/"
        },
        "id": "LKfP7LfQZUfO",
        "outputId": "019b96a0-e9c9-475b-a8a1-4c9b80fe5546"
      },
      "outputs": [
        {
          "output_type": "stream",
          "name": "stdout",
          "text": [
            "Epoch 1/10\n",
            "214/214 [==============================] - 2s 5ms/step - loss: 0.6187 - accuracy: 0.8220 - val_loss: 0.5488 - val_accuracy: 0.7993\n",
            "Epoch 2/10\n",
            "214/214 [==============================] - 1s 4ms/step - loss: 0.4889 - accuracy: 0.8240 - val_loss: 0.5007 - val_accuracy: 0.7993\n",
            "Epoch 3/10\n",
            "214/214 [==============================] - 1s 4ms/step - loss: 0.4559 - accuracy: 0.8240 - val_loss: 0.4892 - val_accuracy: 0.7993\n",
            "Epoch 4/10\n",
            "214/214 [==============================] - 1s 4ms/step - loss: 0.4263 - accuracy: 0.8240 - val_loss: 0.4665 - val_accuracy: 0.7993\n",
            "Epoch 5/10\n",
            "214/214 [==============================] - 1s 4ms/step - loss: 0.3853 - accuracy: 0.8244 - val_loss: 0.4428 - val_accuracy: 0.8004\n",
            "Epoch 6/10\n",
            "214/214 [==============================] - 1s 4ms/step - loss: 0.3457 - accuracy: 0.8393 - val_loss: 0.4243 - val_accuracy: 0.8091\n",
            "Epoch 7/10\n",
            "214/214 [==============================] - 1s 4ms/step - loss: 0.3119 - accuracy: 0.8629 - val_loss: 0.4123 - val_accuracy: 0.8164\n",
            "Epoch 8/10\n",
            "214/214 [==============================] - 1s 6ms/step - loss: 0.2843 - accuracy: 0.8791 - val_loss: 0.4042 - val_accuracy: 0.8215\n",
            "Epoch 9/10\n",
            "214/214 [==============================] - 2s 7ms/step - loss: 0.2616 - accuracy: 0.8908 - val_loss: 0.3987 - val_accuracy: 0.8307\n",
            "Epoch 10/10\n",
            "214/214 [==============================] - 1s 5ms/step - loss: 0.2425 - accuracy: 0.9016 - val_loss: 0.3950 - val_accuracy: 0.8322\n"
          ]
        }
      ],
      "source": [
        "input = tf.keras.layers.Input(shape=[1,],dtype = \"string\")\n",
        "x = text_vect(input)\n",
        "x = embed_layer(x)\n",
        "x = tf.keras.layers.GlobalMaxPool1D()(x)\n",
        "output = tf.keras.layers.Dense(1,activation = \"sigmoid\")(x)\n",
        "\n",
        "model_1 = tf.keras.Model(input,output)\n",
        "model_1.compile(loss = \"binary_crossentropy\",\n",
        "                optimizer = \"adam\",\n",
        "                metrics= [\"accuracy\"]\n",
        "                )\n",
        "his_1 = model_1.fit(train_data,train_label,\n",
        "                    epochs = 10,\n",
        "                    validation_data = (test_data,test_label),\n",
        "\n",
        "                    )"
      ]
    },
    {
      "cell_type": "code",
      "execution_count": null,
      "metadata": {
        "id": "4_GWfYe1bpyL"
      },
      "outputs": [],
      "source": [
        "def plot_loss_curve(his):\n",
        "  loss = his.history[\"loss\"]\n",
        "  val_loss = his.history[\"val_loss\"]\n",
        "  acc = his.history[\"accuracy\"]\n",
        "  val_acc = his.history[\"val_accuracy\"]\n",
        "\n",
        "  plt.plot(loss,label = \"loss\")\n",
        "  plt.plot(val_loss,label = \"val_loss\")\n",
        "  plt.xlabel(\"epoch\")\n",
        "  plt.title(\"loss\")\n",
        "  plt.legend()\n",
        "\n",
        "  plt.figure()\n",
        "\n",
        "  plt.plot(acc,label = \"acc\")\n",
        "  plt.plot(val_acc,label = \"val_acc\")\n",
        "  plt.xlabel(\"epoch\")\n",
        "  plt.title(\"accuracy\")\n",
        "  plt.legend()\n"
      ]
    },
    {
      "cell_type": "code",
      "execution_count": null,
      "metadata": {
        "colab": {
          "base_uri": "https://localhost:8080/",
          "height": 927
        },
        "id": "ic3T5aZNb6qN",
        "outputId": "43eb9d5d-7dbd-47fb-f324-3a57f76a52c1"
      },
      "outputs": [
        {
          "output_type": "display_data",
          "data": {
            "text/plain": [
              "<Figure size 640x480 with 1 Axes>"
            ],
            "image/png": "[encoded data removed]"
          },
          "metadata": {}
        },
        {
          "output_type": "display_data",
          "data": {
            "text/plain": [
              "<Figure size 640x480 with 1 Axes>"
            ],
            "image/png": "[encoded data removed]"
          },
          "metadata": {}
        }
      ],
      "source": [
        "plot_loss_curve(his_1)"
      ]
    },
    {
      "cell_type": "code",
      "execution_count": null,
      "metadata": {
        "colab": {
          "base_uri": "https://localhost:8080/"
        },
        "id": "uXUIuOIib_4x",
        "outputId": "799737e1-b10d-4d6d-b475-f8121e04b5e2"
      },
      "outputs": [
        {
          "output_type": "stream",
          "name": "stdout",
          "text": [
            "143/143 [==============================] - 0s 2ms/step\n"
          ]
        }
      ],
      "source": [
        "y_pred_1 = model_1.predict(test_dataset)"
      ]
    },
    {
      "cell_type": "code",
      "execution_count": null,
      "metadata": {
        "id": "KARP2uxTTcnc"
      },
      "outputs": [],
      "source": [
        "model_1_result = evaluation_metrics(test_label,y_pred_1.round())"
      ]
    },
    {
      "cell_type": "code",
      "execution_count": null,
      "metadata": {
        "colab": {
          "base_uri": "https://localhost:8080/"
        },
        "id": "hx1GOQN0TsbC",
        "outputId": "77678e04-e8a9-44ea-dc80-8e1b80d881c1"
      },
      "outputs": [
        {
          "output_type": "execute_result",
          "data": {
            "text/plain": [
              "{'precsion': 0.6878738227950422,\n",
              " 'rec': 0.7645118733509235,\n",
              " 'fscore': 0.7138997571537308}"
            ]
          },
          "metadata": {},
          "execution_count": 49
        }
      ],
      "source": [
        "model_1_result"
      ]
    },
    {
      "cell_type": "code",
      "execution_count": null,
      "metadata": {
        "colab": {
          "base_uri": "https://localhost:8080/"
        },
        "id": "tVMCjFPNTk7A",
        "outputId": "ca8a0a39-2f78-4553-88cd-06bae325e045"
      },
      "outputs": [
        {
          "output_type": "execute_result",
          "data": {
            "text/plain": [
              "array([[0.],\n",
              "       [0.],\n",
              "       [0.],\n",
              "       ...,\n",
              "       [0.],\n",
              "       [0.],\n",
              "       [0.]], dtype=float32)"
            ]
          },
          "metadata": {},
          "execution_count": 50
        }
      ],
      "source": [
        "y_pred_1.round()"
      ]
    },
    {
      "cell_type": "code",
      "execution_count": null,
      "metadata": {
        "colab": {
          "base_uri": "https://localhost:8080/"
        },
        "id": "3prIrQDCVBLX",
        "outputId": "885942e0-665c-4133-ae14-bb9b9cb86594"
      },
      "outputs": [
        {
          "output_type": "stream",
          "name": "stdout",
          "text": [
            "Epoch 1/10\n",
            "214/214 [==============================] - 2s 5ms/step - loss: 0.5388 - accuracy: 0.7779 - val_loss: 0.4509 - val_accuracy: 0.7993\n",
            "Epoch 2/10\n",
            "214/214 [==============================] - 1s 4ms/step - loss: 0.3661 - accuracy: 0.8443 - val_loss: 0.4133 - val_accuracy: 0.8155\n",
            "Epoch 3/10\n",
            "214/214 [==============================] - 1s 4ms/step - loss: 0.3073 - accuracy: 0.8665 - val_loss: 0.4022 - val_accuracy: 0.8309\n",
            "Epoch 4/10\n",
            "214/214 [==============================] - 1s 4ms/step - loss: 0.2836 - accuracy: 0.8647 - val_loss: 0.4009 - val_accuracy: 0.8336\n",
            "Epoch 5/10\n",
            "214/214 [==============================] - 1s 4ms/step - loss: 0.2655 - accuracy: 0.8691 - val_loss: 0.4056 - val_accuracy: 0.8377\n",
            "Epoch 6/10\n",
            "214/214 [==============================] - 1s 4ms/step - loss: 0.2508 - accuracy: 0.8717 - val_loss: 0.4164 - val_accuracy: 0.8380\n",
            "Epoch 7/10\n",
            "214/214 [==============================] - 1s 4ms/step - loss: 0.2419 - accuracy: 0.8757 - val_loss: 0.4193 - val_accuracy: 0.8349\n",
            "Epoch 8/10\n",
            "214/214 [==============================] - 2s 7ms/step - loss: 0.2260 - accuracy: 0.8849 - val_loss: 0.4296 - val_accuracy: 0.8347\n",
            "Epoch 9/10\n",
            "214/214 [==============================] - 2s 8ms/step - loss: 0.2240 - accuracy: 0.8791 - val_loss: 0.4382 - val_accuracy: 0.8344\n",
            "Epoch 10/10\n",
            "214/214 [==============================] - 1s 5ms/step - loss: 0.2136 - accuracy: 0.8776 - val_loss: 0.4499 - val_accuracy: 0.8369\n"
          ]
        }
      ],
      "source": [
        "input = tf.keras.layers.Input(shape=[1,],dtype = \"string\")\n",
        "x = text_vect(input)\n",
        "x = embed_layer(x)\n",
        "x = tf.keras.layers.GlobalMaxPool1D()(x)\n",
        "x = tf.keras.layers.Dense(8,activation =  \"relu\")(x)\n",
        "x = tf.keras.layers.Dropout(0.5)(x)\n",
        "output = tf.keras.layers.Dense(1,activation = \"sigmoid\")(x)\n",
        "\n",
        "model_2 = tf.keras.Model(input,output)\n",
        "model_2.compile(loss = \"binary_crossentropy\",\n",
        "                optimizer = \"adam\",\n",
        "                metrics= [\"accuracy\"]\n",
        "                )\n",
        "his_2 = model_2.fit(train_dataset,\n",
        "                    epochs = 10,\n",
        "                    validation_data = test_dataset\n",
        "                    )"
      ]
    },
    {
      "cell_type": "code",
      "source": [
        "plot_loss_curve(his_2)"
      ],
      "metadata": {
        "colab": {
          "base_uri": "https://localhost:8080/",
          "height": 927
        },
        "id": "LrbeeaKDv8eF",
        "outputId": "4b406d21-0993-4709-e7b9-a4a315d6ff61"
      },
      "execution_count": null,
      "outputs": [
        {
          "output_type": "display_data",
          "data": {
            "text/plain": [
              "<Figure size 640x480 with 1 Axes>"
            ],
            "image/png": "[encoded data removed]"
          },
          "metadata": {}
        },
        {
          "output_type": "display_data",
          "data": {
            "text/plain": [
              "<Figure size 640x480 with 1 Axes>"
            ],
            "image/png": "[encoded data removed]"
          },
          "metadata": {}
        }
      ]
    },
    {
      "cell_type": "code",
      "execution_count": null,
      "metadata": {
        "colab": {
          "base_uri": "https://localhost:8080/"
        },
        "id": "fKwUEMR_WBPv",
        "outputId": "a631952f-d055-491e-83df-e3f425034eb0"
      },
      "outputs": [
        {
          "output_type": "stream",
          "name": "stdout",
          "text": [
            "Epoch 1/10\n",
            "214/214 [==============================] - 2s 5ms/step - loss: 0.4652 - accuracy: 0.8156 - val_loss: 0.4675 - val_accuracy: 0.7993\n",
            "Epoch 2/10\n",
            "214/214 [==============================] - 1s 4ms/step - loss: 0.3449 - accuracy: 0.8464 - val_loss: 0.3985 - val_accuracy: 0.8294\n",
            "Epoch 3/10\n",
            "214/214 [==============================] - 1s 4ms/step - loss: 0.2398 - accuracy: 0.9109 - val_loss: 0.3825 - val_accuracy: 0.8388\n",
            "Epoch 4/10\n",
            "214/214 [==============================] - 1s 5ms/step - loss: 0.1901 - accuracy: 0.9310 - val_loss: 0.3919 - val_accuracy: 0.8375\n",
            "Epoch 5/10\n",
            "214/214 [==============================] - 1s 4ms/step - loss: 0.1609 - accuracy: 0.9431 - val_loss: 0.4097 - val_accuracy: 0.8401\n",
            "Epoch 6/10\n",
            "214/214 [==============================] - 1s 4ms/step - loss: 0.1371 - accuracy: 0.9531 - val_loss: 0.4288 - val_accuracy: 0.8388\n",
            "Epoch 7/10\n",
            "214/214 [==============================] - 1s 6ms/step - loss: 0.1167 - accuracy: 0.9614 - val_loss: 0.4480 - val_accuracy: 0.8364\n",
            "Epoch 8/10\n",
            "214/214 [==============================] - 1s 4ms/step - loss: 0.0992 - accuracy: 0.9691 - val_loss: 0.4810 - val_accuracy: 0.8355\n",
            "Epoch 9/10\n",
            "214/214 [==============================] - 1s 4ms/step - loss: 0.0833 - accuracy: 0.9758 - val_loss: 0.5000 - val_accuracy: 0.8373\n",
            "Epoch 10/10\n",
            "214/214 [==============================] - 1s 4ms/step - loss: 0.0698 - accuracy: 0.9805 - val_loss: 0.5289 - val_accuracy: 0.8364\n"
          ]
        }
      ],
      "source": [
        "input = tf.keras.layers.Input(shape=[1,],dtype = \"string\")\n",
        "x = text_vect(input)\n",
        "x = embed_layer(x)\n",
        "x = tf.keras.layers.Conv1D(8,5,activation = \"relu\")(x)\n",
        "x = tf.keras.layers.GlobalMaxPool1D()(x)\n",
        "output = tf.keras.layers.Dense(1,activation = \"sigmoid\")(x)\n",
        "\n",
        "model_3 = tf.keras.Model(input,output)\n",
        "model_3.compile(loss = \"binary_crossentropy\",\n",
        "                optimizer = \"adam\",\n",
        "                metrics= [\"accuracy\"]\n",
        "                )\n",
        "his_3 = model_3.fit(train_dataset,\n",
        "                    epochs = 10,\n",
        "                    validation_data = test_dataset,\n",
        "\n",
        "                    )"
      ]
    },
    {
      "cell_type": "code",
      "source": [
        "plot_loss_curve(his_2)"
      ],
      "metadata": {
        "id": "DsL7N2L8tegF",
        "colab": {
          "base_uri": "https://localhost:8080/",
          "height": 927
        },
        "outputId": "7f115fee-b788-49a1-df84-027108989432"
      },
      "execution_count": null,
      "outputs": [
        {
          "output_type": "display_data",
          "data": {
            "text/plain": [
              "<Figure size 640x480 with 1 Axes>"
            ],
            "image/png": "[encoded data removed]"
          },
          "metadata": {}
        },
        {
          "output_type": "display_data",
          "data": {
            "text/plain": [
              "<Figure size 640x480 with 1 Axes>"
            ],
            "image/png": "[encoded data removed]"
          },
          "metadata": {}
        }
      ]
    },
    {
      "cell_type": "code",
      "source": [
        "input = tf.keras.layers.Input(shape = [1,],dtype = \"string\")\n",
        "x = text_vect(input)\n",
        "x = embed_layer(x)\n",
        "x = tf.keras.layers.GlobalMaxPool1D()(x)\n",
        "x = tf.keras.layers.Dropout(0.2)(x)\n",
        "output = tf.keras.layers.Dense(1,activation = \"sigmoid\")(x)\n",
        "\n",
        "model_4 = tf.keras.Model(input,output)\n",
        "model_4.compile(loss = \"binary_crossentropy\",\n",
        "                optimizer = \"adam\",\n",
        "                metrics = [\"accuracy\"]\n",
        "                )\n",
        "his_4 = model_4.fit(train_data,train_label,\n",
        "                    epochs= 10,\n",
        "                    validation_data = (test_data,test_label)\n",
        "                    )"
      ],
      "metadata": {
        "colab": {
          "base_uri": "https://localhost:8080/"
        },
        "id": "AJEhc6z2srPL",
        "outputId": "aa651dfc-725f-42b2-e4f5-dc072b4b5948"
      },
      "execution_count": null,
      "outputs": [
        {
          "output_type": "stream",
          "name": "stdout",
          "text": [
            "Epoch 1/10\n",
            "214/214 [==============================] - 2s 5ms/step - loss: 1.1738 - accuracy: 0.1891 - val_loss: 0.8797 - val_accuracy: 0.2142\n",
            "Epoch 2/10\n",
            "214/214 [==============================] - 1s 4ms/step - loss: 0.7063 - accuracy: 0.5259 - val_loss: 0.5848 - val_accuracy: 0.7905\n",
            "Epoch 3/10\n",
            "214/214 [==============================] - 1s 4ms/step - loss: 0.4672 - accuracy: 0.8351 - val_loss: 0.4722 - val_accuracy: 0.8085\n",
            "Epoch 4/10\n",
            "214/214 [==============================] - 1s 4ms/step - loss: 0.3823 - accuracy: 0.8502 - val_loss: 0.4396 - val_accuracy: 0.8102\n",
            "Epoch 5/10\n",
            "214/214 [==============================] - 1s 4ms/step - loss: 0.3437 - accuracy: 0.8580 - val_loss: 0.4249 - val_accuracy: 0.8228\n",
            "Epoch 6/10\n",
            "214/214 [==============================] - 1s 6ms/step - loss: 0.3179 - accuracy: 0.8668 - val_loss: 0.4149 - val_accuracy: 0.8285\n",
            "Epoch 7/10\n",
            "214/214 [==============================] - 4s 18ms/step - loss: 0.2958 - accuracy: 0.8726 - val_loss: 0.4080 - val_accuracy: 0.8316\n",
            "Epoch 8/10\n",
            "214/214 [==============================] - 1s 5ms/step - loss: 0.2797 - accuracy: 0.8839 - val_loss: 0.4032 - val_accuracy: 0.8340\n",
            "Epoch 9/10\n",
            "214/214 [==============================] - 1s 4ms/step - loss: 0.2634 - accuracy: 0.8942 - val_loss: 0.3995 - val_accuracy: 0.8349\n",
            "Epoch 10/10\n",
            "214/214 [==============================] - 1s 4ms/step - loss: 0.2499 - accuracy: 0.8964 - val_loss: 0.3974 - val_accuracy: 0.8347\n"
          ]
        }
      ]
    },
    {
      "cell_type": "code",
      "source": [
        "plot_loss_curve(his_4)"
      ],
      "metadata": {
        "colab": {
          "base_uri": "https://localhost:8080/",
          "height": 927
        },
        "id": "SUzREAtPtsX9",
        "outputId": "c869368d-07f6-401b-cf4a-ae4bab69bbab"
      },
      "execution_count": null,
      "outputs": [
        {
          "output_type": "display_data",
          "data": {
            "text/plain": [
              "<Figure size 640x480 with 1 Axes>"
            ],
            "image/png": "[encoded data removed]"
          },
          "metadata": {}
        },
        {
          "output_type": "display_data",
          "data": {
            "text/plain": [
              "<Figure size 640x480 with 1 Axes>"
            ],
            "image/png": "[encoded data removed]"
          },
          "metadata": {}
        }
      ]
    },
    {
      "cell_type": "code",
      "source": [
        "input = tf.keras.layers.Input(shape = [1,],dtype = \"string\")\n",
        "x = text_vect(input)\n",
        "x = embed_layer(x)\n",
        "x = tf.keras.layers.GlobalMaxPool1D()(x)\n",
        "x =tf.keras.layers.Dense(8,activation = \"relu\")(x)\n",
        "output = tf.keras.layers.Dense(1,activation = \"sigmoid\")(x)\n",
        "model_5 = tf.keras.Model(input,output)\n",
        "model_5.compile(loss = \"binary_crossentropy\",\n",
        "                optimizer = \"adam\",\n",
        "                metrics = [\"accuracy\"]\n",
        "                )\n",
        "his_5 = model_5.fit(train_dataset,\n",
        "                    epochs= 10,\n",
        "                    validation_data = test_dataset\n",
        "                    )"
      ],
      "metadata": {
        "colab": {
          "base_uri": "https://localhost:8080/"
        },
        "id": "DESRW0Bat0BR",
        "outputId": "2316002f-1a42-40bd-a993-81d6456e81d2"
      },
      "execution_count": null,
      "outputs": [
        {
          "output_type": "stream",
          "name": "stdout",
          "text": [
            "Epoch 1/10\n",
            "214/214 [==============================] - 2s 5ms/step - loss: 0.4798 - accuracy: 0.7501 - val_loss: 0.4344 - val_accuracy: 0.7995\n",
            "Epoch 2/10\n",
            "214/214 [==============================] - 1s 4ms/step - loss: 0.2572 - accuracy: 0.8896 - val_loss: 0.4005 - val_accuracy: 0.8351\n",
            "Epoch 3/10\n",
            "214/214 [==============================] - 1s 4ms/step - loss: 0.1882 - accuracy: 0.9252 - val_loss: 0.4061 - val_accuracy: 0.8340\n",
            "Epoch 4/10\n",
            "214/214 [==============================] - 1s 4ms/step - loss: 0.1598 - accuracy: 0.9345 - val_loss: 0.4192 - val_accuracy: 0.8349\n",
            "Epoch 5/10\n",
            "214/214 [==============================] - 1s 4ms/step - loss: 0.1432 - accuracy: 0.9412 - val_loss: 0.4323 - val_accuracy: 0.8327\n",
            "Epoch 6/10\n",
            "214/214 [==============================] - 1s 4ms/step - loss: 0.1310 - accuracy: 0.9471 - val_loss: 0.4488 - val_accuracy: 0.8318\n",
            "Epoch 7/10\n",
            "214/214 [==============================] - 1s 4ms/step - loss: 0.1217 - accuracy: 0.9524 - val_loss: 0.4647 - val_accuracy: 0.8318\n",
            "Epoch 8/10\n",
            "214/214 [==============================] - 1s 4ms/step - loss: 0.1138 - accuracy: 0.9556 - val_loss: 0.4783 - val_accuracy: 0.8298\n",
            "Epoch 9/10\n",
            "214/214 [==============================] - 2s 7ms/step - loss: 0.1070 - accuracy: 0.9591 - val_loss: 0.4965 - val_accuracy: 0.8270\n",
            "Epoch 10/10\n",
            "214/214 [==============================] - 1s 4ms/step - loss: 0.1011 - accuracy: 0.9623 - val_loss: 0.5117 - val_accuracy: 0.8283\n"
          ]
        }
      ]
    },
    {
      "cell_type": "code",
      "source": [
        "plot_loss_curve(his_5)"
      ],
      "metadata": {
        "colab": {
          "base_uri": "https://localhost:8080/",
          "height": 927
        },
        "id": "xyCBEC_Fw7_4",
        "outputId": "76976597-2629-46b5-a358-c3ab18a6c6d7"
      },
      "execution_count": null,
      "outputs": [
        {
          "output_type": "display_data",
          "data": {
            "text/plain": [
              "<Figure size 640x480 with 1 Axes>"
            ],
            "image/png": "[encoded data removed]"
          },
          "metadata": {}
        },
        {
          "output_type": "display_data",
          "data": {
            "text/plain": [
              "<Figure size 640x480 with 1 Axes>"
            ],
            "image/png": "[encoded data removed]"
          },
          "metadata": {}
        }
      ]
    },
    {
      "cell_type": "code",
      "source": [
        "input = tf.keras.layers.Input(shape=[1,],dtype =\"string\")\n",
        "x = text_vect(input)\n",
        "x = embed_layer(x)\n",
        "x = tf.keras.layers.GlobalMaxPool1D()(x)\n",
        "x = tf.keras.layers.Dropout(0.3)(x)\n",
        "output = tf.keras.layers.Dense(1,activation = \"sigmoid\")(x)\n",
        "\n",
        "model_6 = tf.keras.Model(input,output)\n",
        "model_6.compile(loss = \"binary_crossentropy\",\n",
        "                optimizer = \"adam\",\n",
        "                metrics = [\"accuracy\"]\n",
        "                )\n",
        "model_6_his = model_6.fit(train_data,train_label,\n",
        "                    epochs = 10,\n",
        "                    validation_data = (test_data,test_label)\n",
        "                    )"
      ],
      "metadata": {
        "colab": {
          "base_uri": "https://localhost:8080/"
        },
        "id": "KN2GM-cUN-ot",
        "outputId": "1d99aa4f-8d09-48f1-b78f-f1fe8b08137b"
      },
      "execution_count": null,
      "outputs": [
        {
          "output_type": "stream",
          "name": "stdout",
          "text": [
            "Epoch 1/10\n",
            "214/214 [==============================] - 2s 5ms/step - loss: 0.7045 - accuracy: 0.5513 - val_loss: 0.5666 - val_accuracy: 0.7759\n",
            "Epoch 2/10\n",
            "214/214 [==============================] - 1s 4ms/step - loss: 0.4223 - accuracy: 0.8480 - val_loss: 0.4506 - val_accuracy: 0.8237\n",
            "Epoch 3/10\n",
            "214/214 [==============================] - 1s 4ms/step - loss: 0.3318 - accuracy: 0.8744 - val_loss: 0.4213 - val_accuracy: 0.8245\n",
            "Epoch 4/10\n",
            "214/214 [==============================] - 1s 4ms/step - loss: 0.2985 - accuracy: 0.8804 - val_loss: 0.4092 - val_accuracy: 0.8263\n",
            "Epoch 5/10\n",
            "214/214 [==============================] - 1s 4ms/step - loss: 0.2786 - accuracy: 0.8827 - val_loss: 0.4021 - val_accuracy: 0.8360\n",
            "Epoch 6/10\n",
            "214/214 [==============================] - 1s 4ms/step - loss: 0.2530 - accuracy: 0.8945 - val_loss: 0.3970 - val_accuracy: 0.8362\n",
            "Epoch 7/10\n",
            "214/214 [==============================] - 1s 4ms/step - loss: 0.2345 - accuracy: 0.9031 - val_loss: 0.3942 - val_accuracy: 0.8384\n",
            "Epoch 8/10\n",
            "214/214 [==============================] - 1s 4ms/step - loss: 0.2178 - accuracy: 0.9144 - val_loss: 0.3929 - val_accuracy: 0.8375\n",
            "Epoch 9/10\n",
            "214/214 [==============================] - 1s 7ms/step - loss: 0.2124 - accuracy: 0.9126 - val_loss: 0.3929 - val_accuracy: 0.8395\n",
            "Epoch 10/10\n",
            "214/214 [==============================] - 1s 6ms/step - loss: 0.1988 - accuracy: 0.9166 - val_loss: 0.3941 - val_accuracy: 0.8415\n"
          ]
        }
      ]
    },
    {
      "cell_type": "code",
      "source": [
        "plot_loss_curve(model_6_his)"
      ],
      "metadata": {
        "colab": {
          "base_uri": "https://localhost:8080/",
          "height": 927
        },
        "id": "4-CW-VWYOzOt",
        "outputId": "f79773a6-e8ce-4924-f9f7-3d337af99153"
      },
      "execution_count": null,
      "outputs": [
        {
          "output_type": "display_data",
          "data": {
            "text/plain": [
              "<Figure size 640x480 with 1 Axes>"
            ],
            "image/png": "[encoded data removed]"
          },
          "metadata": {}
        },
        {
          "output_type": "display_data",
          "data": {
            "text/plain": [
              "<Figure size 640x480 with 1 Axes>"
            ],
            "image/png": "[encoded data removed]"
          },
          "metadata": {}
        }
      ]
    },
    {
      "cell_type": "code",
      "source": [
        "input = tf.keras.layers.Input(shape = [1,],dtype = \"string\")\n",
        "x = text_vect(input)\n",
        "x = embed_layer(x)\n",
        "x = tf.keras.layers.GlobalMaxPool1D()(x)\n",
        "x = tf.keras.layers.Dropout(0.4)(x)\n",
        "output = tf.keras.layers.Dense(1,activation = \"sigmoid\")(x)\n",
        "\n",
        "model_7 = tf.keras.Model(input,output)\n",
        "model_7.compile(loss = \"binary_crossentropy\",\n",
        "                optimizer = \"adam\",\n",
        "                metrics = [\"accuracy\"]\n",
        "                )\n",
        "his_7 = model_7.fit(train_data,train_label,\n",
        "                    epochs = 10,\n",
        "                    validation_data = (test_data,test_label)\n",
        "                    )"
      ],
      "metadata": {
        "colab": {
          "base_uri": "https://localhost:8080/"
        },
        "id": "67i1eNLLO36N",
        "outputId": "aa431081-79b6-452a-9686-d72b78d83154"
      },
      "execution_count": null,
      "outputs": [
        {
          "output_type": "stream",
          "name": "stdout",
          "text": [
            "Epoch 1/10\n",
            "214/214 [==============================] - 3s 7ms/step - loss: 0.6662 - accuracy: 0.7429 - val_loss: 0.5494 - val_accuracy: 0.7993\n",
            "Epoch 2/10\n",
            "214/214 [==============================] - 1s 4ms/step - loss: 0.5401 - accuracy: 0.8093 - val_loss: 0.5006 - val_accuracy: 0.7993\n",
            "Epoch 3/10\n",
            "214/214 [==============================] - 1s 4ms/step - loss: 0.4389 - accuracy: 0.8272 - val_loss: 0.4629 - val_accuracy: 0.7993\n",
            "Epoch 4/10\n",
            "214/214 [==============================] - 1s 4ms/step - loss: 0.3643 - accuracy: 0.8415 - val_loss: 0.4361 - val_accuracy: 0.8028\n",
            "Epoch 5/10\n",
            "214/214 [==============================] - 1s 4ms/step - loss: 0.3136 - accuracy: 0.8618 - val_loss: 0.4191 - val_accuracy: 0.8135\n",
            "Epoch 6/10\n",
            "214/214 [==============================] - 1s 4ms/step - loss: 0.2741 - accuracy: 0.8864 - val_loss: 0.4074 - val_accuracy: 0.8252\n",
            "Epoch 7/10\n",
            "214/214 [==============================] - 1s 4ms/step - loss: 0.2481 - accuracy: 0.9038 - val_loss: 0.4023 - val_accuracy: 0.8333\n",
            "Epoch 8/10\n",
            "214/214 [==============================] - 1s 4ms/step - loss: 0.2271 - accuracy: 0.9135 - val_loss: 0.3992 - val_accuracy: 0.8360\n",
            "Epoch 9/10\n",
            "214/214 [==============================] - 1s 4ms/step - loss: 0.2200 - accuracy: 0.9125 - val_loss: 0.3991 - val_accuracy: 0.8386\n",
            "Epoch 10/10\n",
            "214/214 [==============================] - 1s 4ms/step - loss: 0.2083 - accuracy: 0.9219 - val_loss: 0.4016 - val_accuracy: 0.8397\n"
          ]
        }
      ]
    },
    {
      "cell_type": "code",
      "source": [
        "plot_loss_curve(his_7)"
      ],
      "metadata": {
        "colab": {
          "base_uri": "https://localhost:8080/",
          "height": 927
        },
        "id": "8VZ8GmTuTp65",
        "outputId": "ecee0c16-bb65-4d43-dd18-72af1d752dd4"
      },
      "execution_count": null,
      "outputs": [
        {
          "output_type": "display_data",
          "data": {
            "text/plain": [
              "<Figure size 640x480 with 1 Axes>"
            ],
            "image/png": "[encoded data removed]"
          },
          "metadata": {}
        },
        {
          "output_type": "display_data",
          "data": {
            "text/plain": [
              "<Figure size 640x480 with 1 Axes>"
            ],
            "image/png": "[encoded data removed]"
          },
          "metadata": {}
        }
      ]
    },
    {
      "cell_type": "code",
      "source": [
        "input = tf.keras.layers.Input(shape=[1,],dtype =\"string\")\n",
        "x = text_vect(input)\n",
        "x = embed_layer(x)\n",
        "x = tf.keras.layers.GlobalMaxPool1D()(x)\n",
        "x = tf.keras.layers.Dropout(0.5)(x)\n",
        "output = tf.keras.layers.Dense(1,activation = \"sigmoid\")(x)\n",
        "\n",
        "model_8 = tf.keras.Model(input,output)\n",
        "model_8.compile(loss = \"binary_crossentropy\",\n",
        "                optimizer = \"adam\",\n",
        "                metrics = [\"accuracy\"]\n",
        "                )\n",
        "his_8 = model_8.fit(train_data,train_label,\n",
        "                    epochs = 10,\n",
        "                    validation_data = (test_data,test_label)\n",
        "                    )"
      ],
      "metadata": {
        "colab": {
          "base_uri": "https://localhost:8080/"
        },
        "id": "prW1N8q7UPla",
        "outputId": "1066a4cf-3daf-4450-a5d9-b932a1cd06e5"
      },
      "execution_count": null,
      "outputs": [
        {
          "output_type": "stream",
          "name": "stdout",
          "text": [
            "Epoch 1/10\n",
            "214/214 [==============================] - 3s 8ms/step - loss: 0.5971 - accuracy: 0.6772 - val_loss: 0.4699 - val_accuracy: 0.8199\n",
            "Epoch 2/10\n",
            "214/214 [==============================] - 1s 4ms/step - loss: 0.4100 - accuracy: 0.8242 - val_loss: 0.4160 - val_accuracy: 0.8298\n",
            "Epoch 3/10\n",
            "214/214 [==============================] - 1s 4ms/step - loss: 0.3409 - accuracy: 0.8619 - val_loss: 0.3981 - val_accuracy: 0.8338\n",
            "Epoch 4/10\n",
            "214/214 [==============================] - 1s 4ms/step - loss: 0.3067 - accuracy: 0.8719 - val_loss: 0.3891 - val_accuracy: 0.8399\n",
            "Epoch 5/10\n",
            "214/214 [==============================] - 1s 4ms/step - loss: 0.2840 - accuracy: 0.8817 - val_loss: 0.3846 - val_accuracy: 0.8419\n",
            "Epoch 6/10\n",
            "214/214 [==============================] - 1s 4ms/step - loss: 0.2649 - accuracy: 0.8863 - val_loss: 0.3825 - val_accuracy: 0.8456\n",
            "Epoch 7/10\n",
            "214/214 [==============================] - 1s 4ms/step - loss: 0.2570 - accuracy: 0.8914 - val_loss: 0.3823 - val_accuracy: 0.8467\n",
            "Epoch 8/10\n",
            "214/214 [==============================] - 1s 4ms/step - loss: 0.2405 - accuracy: 0.9012 - val_loss: 0.3835 - val_accuracy: 0.8470\n",
            "Epoch 9/10\n",
            "214/214 [==============================] - 1s 4ms/step - loss: 0.2374 - accuracy: 0.8994 - val_loss: 0.3850 - val_accuracy: 0.8461\n",
            "Epoch 10/10\n",
            "214/214 [==============================] - 1s 4ms/step - loss: 0.2307 - accuracy: 0.9005 - val_loss: 0.3867 - val_accuracy: 0.8461\n"
          ]
        }
      ]
    },
    {
      "cell_type": "code",
      "source": [
        "plot_loss_curve(his_8)"
      ],
      "metadata": {
        "colab": {
          "base_uri": "https://localhost:8080/",
          "height": 927
        },
        "id": "pIri14eBUdWg",
        "outputId": "8b2457bb-8793-41f5-e699-fc0b241a3c9b"
      },
      "execution_count": null,
      "outputs": [
        {
          "output_type": "display_data",
          "data": {
            "text/plain": [
              "<Figure size 640x480 with 1 Axes>"
            ],
            "image/png": "[encoded data removed]"
          },
          "metadata": {}
        },
        {
          "output_type": "display_data",
          "data": {
            "text/plain": [
              "<Figure size 640x480 with 1 Axes>"
            ],
            "image/png": "[encoded data removed]"
          },
          "metadata": {}
        }
      ]
    },
    {
      "cell_type": "code",
      "source": [
        "input = tf.keras.layers.Input(shape=[1,],dtype =\"string\")\n",
        "x = text_vect(input)\n",
        "x = embed_layer(x)\n",
        "x = tf.keras.layers.GlobalMaxPool1D()(x)\n",
        "x = tf.keras.layers.Dropout(0.1)(x)\n",
        "output = tf.keras.layers.Dense(1,activation = \"sigmoid\")(x)\n",
        "\n",
        "model_9 = tf.keras.Model(input,output)\n",
        "model_9.compile(loss = \"binary_crossentropy\",\n",
        "                optimizer = \"adam\",\n",
        "                metrics = [\"accuracy\"]\n",
        "                )\n",
        "his_9 = model_9.fit(train_data,train_label,\n",
        "                    epochs = 10,\n",
        "                    validation_data = (test_data,test_label)\n",
        "                    )"
      ],
      "metadata": {
        "colab": {
          "base_uri": "https://localhost:8080/"
        },
        "id": "OiCUdDOeUis-",
        "outputId": "f19992ec-cf25-4943-9350-75301fd472bc"
      },
      "execution_count": null,
      "outputs": [
        {
          "output_type": "stream",
          "name": "stdout",
          "text": [
            "Epoch 1/10\n",
            "214/214 [==============================] - 3s 9ms/step - loss: 0.4613 - accuracy: 0.8050 - val_loss: 0.4692 - val_accuracy: 0.8065\n",
            "Epoch 2/10\n",
            "214/214 [==============================] - 1s 6ms/step - loss: 0.3018 - accuracy: 0.8836 - val_loss: 0.4187 - val_accuracy: 0.8241\n",
            "Epoch 3/10\n",
            "214/214 [==============================] - 1s 4ms/step - loss: 0.2481 - accuracy: 0.8967 - val_loss: 0.4054 - val_accuracy: 0.8307\n",
            "Epoch 4/10\n",
            "214/214 [==============================] - 1s 4ms/step - loss: 0.2189 - accuracy: 0.9071 - val_loss: 0.4013 - val_accuracy: 0.8325\n",
            "Epoch 5/10\n",
            "214/214 [==============================] - 1s 4ms/step - loss: 0.1965 - accuracy: 0.9208 - val_loss: 0.4004 - val_accuracy: 0.8358\n",
            "Epoch 6/10\n",
            "214/214 [==============================] - 1s 4ms/step - loss: 0.1778 - accuracy: 0.9298 - val_loss: 0.4019 - val_accuracy: 0.8369\n",
            "Epoch 7/10\n",
            "214/214 [==============================] - 1s 4ms/step - loss: 0.1690 - accuracy: 0.9330 - val_loss: 0.4047 - val_accuracy: 0.8366\n",
            "Epoch 8/10\n",
            "214/214 [==============================] - 1s 4ms/step - loss: 0.1609 - accuracy: 0.9335 - val_loss: 0.4085 - val_accuracy: 0.8384\n",
            "Epoch 9/10\n",
            "214/214 [==============================] - 1s 4ms/step - loss: 0.1499 - accuracy: 0.9406 - val_loss: 0.4128 - val_accuracy: 0.8360\n",
            "Epoch 10/10\n",
            "214/214 [==============================] - 1s 4ms/step - loss: 0.1429 - accuracy: 0.9443 - val_loss: 0.4185 - val_accuracy: 0.8366\n"
          ]
        }
      ]
    },
    {
      "cell_type": "code",
      "source": [
        "plot_loss_curve(his_9)"
      ],
      "metadata": {
        "id": "J8rLs-pdlf1M",
        "colab": {
          "base_uri": "https://localhost:8080/",
          "height": 927
        },
        "outputId": "b8e946cc-6949-4c4b-e01a-0079d1d01315"
      },
      "execution_count": null,
      "outputs": [
        {
          "output_type": "display_data",
          "data": {
            "text/plain": [
              "<Figure size 640x480 with 1 Axes>"
            ],
            "image/png": "[encoded data removed]"
          },
          "metadata": {}
        },
        {
          "output_type": "display_data",
          "data": {
            "text/plain": [
              "<Figure size 640x480 with 1 Axes>"
            ],
            "image/png": "[encoded data removed]"
          },
          "metadata": {}
        }
      ]
    },
    {
      "cell_type": "code",
      "source": [
        "y_pred_6 = model_6.predict(test_data)"
      ],
      "metadata": {
        "colab": {
          "base_uri": "https://localhost:8080/"
        },
        "id": "7xlF48aJcTDC",
        "outputId": "2a4479be-a4d9-4251-e165-c22d09b0f453"
      },
      "execution_count": null,
      "outputs": [
        {
          "output_type": "stream",
          "name": "stdout",
          "text": [
            "143/143 [==============================] - 0s 2ms/step\n"
          ]
        }
      ]
    },
    {
      "cell_type": "code",
      "source": [
        "y_pred_6"
      ],
      "metadata": {
        "colab": {
          "base_uri": "https://localhost:8080/"
        },
        "id": "lizxN-YQdhyR",
        "outputId": "a596f48e-3054-4045-e26f-965eb5f427dc"
      },
      "execution_count": null,
      "outputs": [
        {
          "output_type": "execute_result",
          "data": {
            "text/plain": [
              "array([[0.1912765 ],\n",
              "       [0.005589  ],\n",
              "       [0.06001904],\n",
              "       ...,\n",
              "       [0.07675225],\n",
              "       [0.0957778 ],\n",
              "       [0.16917492]], dtype=float32)"
            ]
          },
          "metadata": {},
          "execution_count": 79
        }
      ]
    },
    {
      "cell_type": "code",
      "source": [
        "model_6_result = evaluation_metrics(test_label,y_pred_6.round())\n",
        "model_6_result"
      ],
      "metadata": {
        "colab": {
          "base_uri": "https://localhost:8080/"
        },
        "id": "va4FsOSXciVd",
        "outputId": "b357df85-b0b8-47d6-bbb3-3d262c4d086a"
      },
      "execution_count": null,
      "outputs": [
        {
          "output_type": "execute_result",
          "data": {
            "text/plain": [
              "{'precsion': 0.8237923567734876,\n",
              " 'rec': 0.8390501319261213,\n",
              " 'fscore': 0.8249034950642401}"
            ]
          },
          "metadata": {},
          "execution_count": 80
        }
      ]
    },
    {
      "cell_type": "code",
      "source": [
        "class_names = [\"not_disaster\",\"disaster\"]"
      ],
      "metadata": {
        "id": "68qVU6O2dXs6"
      },
      "execution_count": null,
      "outputs": []
    },
    {
      "cell_type": "code",
      "source": [
        "dataframe = pd.DataFrame({\n",
        "    \"text\":test_data,\n",
        "    \"org_class\": [class_names[i] for i in tf.squeeze(test_label)],\n",
        "    \"test_label\": tf.squeeze(test_label),\n",
        "    \"pred_label\": tf.cast(tf.squeeze(y_pred_6).numpy().round(),dtype=tf.int32),\n",
        "    \"pred_class\" : [class_names[i] for i in tf.cast(tf.squeeze(y_pred_6).numpy().round(),dtype=tf.int32)],\n",
        "    \"pred_prob\" : tf.squeeze(y_pred_6)\n",
        "})\n",
        "dataframe"
      ],
      "metadata": {
        "colab": {
          "base_uri": "https://localhost:8080/",
          "height": 423
        },
        "id": "5caxaFImctPs",
        "outputId": "49aeaf73-4ec1-40ce-e4dc-5a92b355c43b"
      },
      "execution_count": null,
      "outputs": [
        {
          "output_type": "execute_result",
          "data": {
            "text/plain": [
              "                                                   text     org_class  \\\n",
              "0     • 29 injuries to 16 players. And that was only...      disaster   \n",
              "1     What would be the fee for Butland from Stoke -...  not_disaster   \n",
              "2     Easy to say Philly had a bad secondary, but th...  not_disaster   \n",
              "3     The A&amp;Es at Queen Elizabeth Hospital and U...  not_disaster   \n",
              "4     We need options for rotation it’s the reason w...  not_disaster   \n",
              "...                                                 ...           ...   \n",
              "4543  Media should have warned us well in advance. T...  not_disaster   \n",
              "4544  i feel directly attacked 💀 i consider moonbin ...  not_disaster   \n",
              "4545  i feel directly attacked 💀 i consider moonbin ...  not_disaster   \n",
              "4546  ok who remember \"outcast\" nd the \"dora\" au?? T...  not_disaster   \n",
              "4547     Jake Corway wrecked while running 14th at IRP.      disaster   \n",
              "\n",
              "      test_label  pred_label    pred_class  pred_prob  \n",
              "0              1           0  not_disaster   0.191277  \n",
              "1              0           0  not_disaster   0.005589  \n",
              "2              0           0  not_disaster   0.060019  \n",
              "3              0           0  not_disaster   0.251241  \n",
              "4              0           0  not_disaster   0.097198  \n",
              "...          ...         ...           ...        ...  \n",
              "4543           0           0  not_disaster   0.112634  \n",
              "4544           0           0  not_disaster   0.076752  \n",
              "4545           0           0  not_disaster   0.076752  \n",
              "4546           0           0  not_disaster   0.095778  \n",
              "4547           1           0  not_disaster   0.169175  \n",
              "\n",
              "[4548 rows x 6 columns]"
            ],
            "text/html": [
              "\n",
              "  <div id=\"df-94798b98-03ce-47f8-aad5-ef1c4def5d9a\" class=\"colab-df-container\">\n",
              "    <div>\n",
              "<style scoped>\n",
              "    .dataframe tbody tr th:only-of-type {\n",
              "        vertical-align: middle;\n",
              "    }\n",
              "\n",
              "    .dataframe tbody tr th {\n",
              "        vertical-align: top;\n",
              "    }\n",
              "\n",
              "    .dataframe thead th {\n",
              "        text-align: right;\n",
              "    }\n",
              "</style>\n",
              "<table border=\"1\" class=\"dataframe\">\n",
              "  <thead>\n",
              "    <tr style=\"text-align: right;\">\n",
              "      <th></th>\n",
              "      <th>text</th>\n",
              "      <th>org_class</th>\n",
              "      <th>test_label</th>\n",
              "      <th>pred_label</th>\n",
              "      <th>pred_class</th>\n",
              "      <th>pred_prob</th>\n",
              "    </tr>\n",
              "  </thead>\n",
              "  <tbody>\n",
              "    <tr>\n",
              "      <th>0</th>\n",
              "      <td>• 29 injuries to 16 players. And that was only...</td>\n",
              "      <td>disaster</td>\n",
              "      <td>1</td>\n",
              "      <td>0</td>\n",
              "      <td>not_disaster</td>\n",
              "      <td>0.191277</td>\n",
              "    </tr>\n",
              "    <tr>\n",
              "      <th>1</th>\n",
              "      <td>What would be the fee for Butland from Stoke -...</td>\n",
              "      <td>not_disaster</td>\n",
              "      <td>0</td>\n",
              "      <td>0</td>\n",
              "      <td>not_disaster</td>\n",
              "      <td>0.005589</td>\n",
              "    </tr>\n",
              "    <tr>\n",
              "      <th>2</th>\n",
              "      <td>Easy to say Philly had a bad secondary, but th...</td>\n",
              "      <td>not_disaster</td>\n",
              "      <td>0</td>\n",
              "      <td>0</td>\n",
              "      <td>not_disaster</td>\n",
              "      <td>0.060019</td>\n",
              "    </tr>\n",
              "    <tr>\n",
              "      <th>3</th>\n",
              "      <td>The A&amp;amp;Es at Queen Elizabeth Hospital and U...</td>\n",
              "      <td>not_disaster</td>\n",
              "      <td>0</td>\n",
              "      <td>0</td>\n",
              "      <td>not_disaster</td>\n",
              "      <td>0.251241</td>\n",
              "    </tr>\n",
              "    <tr>\n",
              "      <th>4</th>\n",
              "      <td>We need options for rotation it’s the reason w...</td>\n",
              "      <td>not_disaster</td>\n",
              "      <td>0</td>\n",
              "      <td>0</td>\n",
              "      <td>not_disaster</td>\n",
              "      <td>0.097198</td>\n",
              "    </tr>\n",
              "    <tr>\n",
              "      <th>...</th>\n",
              "      <td>...</td>\n",
              "      <td>...</td>\n",
              "      <td>...</td>\n",
              "      <td>...</td>\n",
              "      <td>...</td>\n",
              "      <td>...</td>\n",
              "    </tr>\n",
              "    <tr>\n",
              "      <th>4543</th>\n",
              "      <td>Media should have warned us well in advance. T...</td>\n",
              "      <td>not_disaster</td>\n",
              "      <td>0</td>\n",
              "      <td>0</td>\n",
              "      <td>not_disaster</td>\n",
              "      <td>0.112634</td>\n",
              "    </tr>\n",
              "    <tr>\n",
              "      <th>4544</th>\n",
              "      <td>i feel directly attacked 💀 i consider moonbin ...</td>\n",
              "      <td>not_disaster</td>\n",
              "      <td>0</td>\n",
              "      <td>0</td>\n",
              "      <td>not_disaster</td>\n",
              "      <td>0.076752</td>\n",
              "    </tr>\n",
              "    <tr>\n",
              "      <th>4545</th>\n",
              "      <td>i feel directly attacked 💀 i consider moonbin ...</td>\n",
              "      <td>not_disaster</td>\n",
              "      <td>0</td>\n",
              "      <td>0</td>\n",
              "      <td>not_disaster</td>\n",
              "      <td>0.076752</td>\n",
              "    </tr>\n",
              "    <tr>\n",
              "      <th>4546</th>\n",
              "      <td>ok who remember \"outcast\" nd the \"dora\" au?? T...</td>\n",
              "      <td>not_disaster</td>\n",
              "      <td>0</td>\n",
              "      <td>0</td>\n",
              "      <td>not_disaster</td>\n",
              "      <td>0.095778</td>\n",
              "    </tr>\n",
              "    <tr>\n",
              "      <th>4547</th>\n",
              "      <td>Jake Corway wrecked while running 14th at IRP.</td>\n",
              "      <td>disaster</td>\n",
              "      <td>1</td>\n",
              "      <td>0</td>\n",
              "      <td>not_disaster</td>\n",
              "      <td>0.169175</td>\n",
              "    </tr>\n",
              "  </tbody>\n",
              "</table>\n",
              "<p>4548 rows × 6 columns</p>\n",
              "</div>\n",
              "    <div class=\"colab-df-buttons\">\n",
              "\n",
              "  <div class=\"colab-df-container\">\n",
              "    <button class=\"colab-df-convert\" onclick=\"convertToInteractive('df-94798b98-03ce-47f8-aad5-ef1c4def5d9a')\"\n",
              "            title=\"Convert this dataframe to an interactive table.\"\n",
              "            style=\"display:none;\">\n",
              "\n",
              "  <svg xmlns=\"http://www.w3.org/2000/svg\" height=\"24px\" viewBox=\"0 -960 960 960\">\n",
              "    <path d=\"M120-120v-720h720v720H120Zm60-500h600v-160H180v160Zm220 220h160v-160H400v160Zm0 220h160v-160H400v160ZM180-400h160v-160H180v160Zm440 0h160v-160H620v160ZM180-180h160v-160H180v160Zm440 0h160v-160H620v160Z\"/>\n",
              "  </svg>\n",
              "    </button>\n",
              "\n",
              "  <style>\n",
              "    .colab-df-container {\n",
              "      display:flex;\n",
              "      gap: 12px;\n",
              "    }\n",
              "\n",
              "    .colab-df-convert {\n",
              "      background-color: #E8F0FE;\n",
              "      border: none;\n",
              "      border-radius: 50%;\n",
              "      cursor: pointer;\n",
              "      display: none;\n",
              "      fill: #1967D2;\n",
              "      height: 32px;\n",
              "      padding: 0 0 0 0;\n",
              "      width: 32px;\n",
              "    }\n",
              "\n",
              "    .colab-df-convert:hover {\n",
              "      background-color: #E2EBFA;\n",
              "      box-shadow: 0px 1px 2px rgba(60, 64, 67, 0.3), 0px 1px 3px 1px rgba(60, 64, 67, 0.15);\n",
              "      fill: #174EA6;\n",
              "    }\n",
              "\n",
              "    .colab-df-buttons div {\n",
              "      margin-bottom: 4px;\n",
              "    }\n",
              "\n",
              "    [theme=dark] .colab-df-convert {\n",
              "      background-color: #3B4455;\n",
              "      fill: #D2E3FC;\n",
              "    }\n",
              "\n",
              "    [theme=dark] .colab-df-convert:hover {\n",
              "      background-color: #434B5C;\n",
              "      box-shadow: 0px 1px 3px 1px rgba(0, 0, 0, 0.15);\n",
              "      filter: drop-shadow(0px 1px 2px rgba(0, 0, 0, 0.3));\n",
              "      fill: #FFFFFF;\n",
              "    }\n",
              "  </style>\n",
              "\n",
              "    <script>\n",
              "      const buttonEl =\n",
              "        document.querySelector('#df-94798b98-03ce-47f8-aad5-ef1c4def5d9a button.colab-df-convert');\n",
              "      buttonEl.style.display =\n",
              "        google.colab.kernel.accessAllowed ? 'block' : 'none';\n",
              "\n",
              "      async function convertToInteractive(key) {\n",
              "        const element = document.querySelector('#df-94798b98-03ce-47f8-aad5-ef1c4def5d9a');\n",
              "        const dataTable =\n",
              "          await google.colab.kernel.invokeFunction('convertToInteractive',\n",
              "                                                    [key], {});\n",
              "        if (!dataTable) return;\n",
              "\n",
              "        const docLinkHtml = 'Like what you see? Visit the ' +\n",
              "          '<a target=\"_blank\" href=https://colab.research.google.com/notebooks/data_table.ipynb>data table notebook</a>'\n",
              "          + ' to learn more about interactive tables.';\n",
              "        element.innerHTML = '';\n",
              "        dataTable['output_type'] = 'display_data';\n",
              "        await google.colab.output.renderOutput(dataTable, element);\n",
              "        const docLink = document.createElement('div');\n",
              "        docLink.innerHTML = docLinkHtml;\n",
              "        element.appendChild(docLink);\n",
              "      }\n",
              "    </script>\n",
              "  </div>\n",
              "\n",
              "\n",
              "<div id=\"df-aaf6c7df-7231-4d4c-aeea-e639c880b179\">\n",
              "  <button class=\"colab-df-quickchart\" onclick=\"quickchart('df-aaf6c7df-7231-4d4c-aeea-e639c880b179')\"\n",
              "            title=\"Suggest charts\"\n",
              "            style=\"display:none;\">\n",
              "\n",
              "<svg xmlns=\"http://www.w3.org/2000/svg\" height=\"24px\"viewBox=\"0 0 24 24\"\n",
              "     width=\"24px\">\n",
              "    <g>\n",
              "        <path d=\"M19 3H5c-1.1 0-2 .9-2 2v14c0 1.1.9 2 2 2h14c1.1 0 2-.9 2-2V5c0-1.1-.9-2-2-2zM9 17H7v-7h2v7zm4 0h-2V7h2v10zm4 0h-2v-4h2v4z\"/>\n",
              "    </g>\n",
              "</svg>\n",
              "  </button>\n",
              "\n",
              "<style>\n",
              "  .colab-df-quickchart {\n",
              "      --bg-color: #E8F0FE;\n",
              "      --fill-color: #1967D2;\n",
              "      --hover-bg-color: #E2EBFA;\n",
              "      --hover-fill-color: #174EA6;\n",
              "      --disabled-fill-color: #AAA;\n",
              "      --disabled-bg-color: #DDD;\n",
              "  }\n",
              "\n",
              "  [theme=dark] .colab-df-quickchart {\n",
              "      --bg-color: #3B4455;\n",
              "      --fill-color: #D2E3FC;\n",
              "      --hover-bg-color: #434B5C;\n",
              "      --hover-fill-color: #FFFFFF;\n",
              "      --disabled-bg-color: #3B4455;\n",
              "      --disabled-fill-color: #666;\n",
              "  }\n",
              "\n",
              "  .colab-df-quickchart {\n",
              "    background-color: var(--bg-color);\n",
              "    border: none;\n",
              "    border-radius: 50%;\n",
              "    cursor: pointer;\n",
              "    display: none;\n",
              "    fill: var(--fill-color);\n",
              "    height: 32px;\n",
              "    padding: 0;\n",
              "    width: 32px;\n",
              "  }\n",
              "\n",
              "  .colab-df-quickchart:hover {\n",
              "    background-color: var(--hover-bg-color);\n",
              "    box-shadow: 0 1px 2px rgba(60, 64, 67, 0.3), 0 1px 3px 1px rgba(60, 64, 67, 0.15);\n",
              "    fill: var(--button-hover-fill-color);\n",
              "  }\n",
              "\n",
              "  .colab-df-quickchart-complete:disabled,\n",
              "  .colab-df-quickchart-complete:disabled:hover {\n",
              "    background-color: var(--disabled-bg-color);\n",
              "    fill: var(--disabled-fill-color);\n",
              "    box-shadow: none;\n",
              "  }\n",
              "\n",
              "  .colab-df-spinner {\n",
              "    border: 2px solid var(--fill-color);\n",
              "    border-color: transparent;\n",
              "    border-bottom-color: var(--fill-color);\n",
              "    animation:\n",
              "      spin 1s steps(1) infinite;\n",
              "  }\n",
              "\n",
              "  @keyframes spin {\n",
              "    0% {\n",
              "      border-color: transparent;\n",
              "      border-bottom-color: var(--fill-color);\n",
              "      border-left-color: var(--fill-color);\n",
              "    }\n",
              "    20% {\n",
              "      border-color: transparent;\n",
              "      border-left-color: var(--fill-color);\n",
              "      border-top-color: var(--fill-color);\n",
              "    }\n",
              "    30% {\n",
              "      border-color: transparent;\n",
              "      border-left-color: var(--fill-color);\n",
              "      border-top-color: var(--fill-color);\n",
              "      border-right-color: var(--fill-color);\n",
              "    }\n",
              "    40% {\n",
              "      border-color: transparent;\n",
              "      border-right-color: var(--fill-color);\n",
              "      border-top-color: var(--fill-color);\n",
              "    }\n",
              "    60% {\n",
              "      border-color: transparent;\n",
              "      border-right-color: var(--fill-color);\n",
              "    }\n",
              "    80% {\n",
              "      border-color: transparent;\n",
              "      border-right-color: var(--fill-color);\n",
              "      border-bottom-color: var(--fill-color);\n",
              "    }\n",
              "    90% {\n",
              "      border-color: transparent;\n",
              "      border-bottom-color: var(--fill-color);\n",
              "    }\n",
              "  }\n",
              "</style>\n",
              "\n",
              "  <script>\n",
              "    async function quickchart(key) {\n",
              "      const quickchartButtonEl =\n",
              "        document.querySelector('#' + key + ' button');\n",
              "      quickchartButtonEl.disabled = true;  // To prevent multiple clicks.\n",
              "      quickchartButtonEl.classList.add('colab-df-spinner');\n",
              "      try {\n",
              "        const charts = await google.colab.kernel.invokeFunction(\n",
              "            'suggestCharts', [key], {});\n",
              "      } catch (error) {\n",
              "        console.error('Error during call to suggestCharts:', error);\n",
              "      }\n",
              "      quickchartButtonEl.classList.remove('colab-df-spinner');\n",
              "      quickchartButtonEl.classList.add('colab-df-quickchart-complete');\n",
              "    }\n",
              "    (() => {\n",
              "      let quickchartButtonEl =\n",
              "        document.querySelector('#df-aaf6c7df-7231-4d4c-aeea-e639c880b179 button');\n",
              "      quickchartButtonEl.style.display =\n",
              "        google.colab.kernel.accessAllowed ? 'block' : 'none';\n",
              "    })();\n",
              "  </script>\n",
              "</div>\n",
              "\n",
              "  <div id=\"id_164eb39c-a580-4394-bcce-eefc4bc72963\">\n",
              "    <style>\n",
              "      .colab-df-generate {\n",
              "        background-color: #E8F0FE;\n",
              "        border: none;\n",
              "        border-radius: 50%;\n",
              "        cursor: pointer;\n",
              "        display: none;\n",
              "        fill: #1967D2;\n",
              "        height: 32px;\n",
              "        padding: 0 0 0 0;\n",
              "        width: 32px;\n",
              "      }\n",
              "\n",
              "      .colab-df-generate:hover {\n",
              "        background-color: #E2EBFA;\n",
              "        box-shadow: 0px 1px 2px rgba(60, 64, 67, 0.3), 0px 1px 3px 1px rgba(60, 64, 67, 0.15);\n",
              "        fill: #174EA6;\n",
              "      }\n",
              "\n",
              "      [theme=dark] .colab-df-generate {\n",
              "        background-color: #3B4455;\n",
              "        fill: #D2E3FC;\n",
              "      }\n",
              "\n",
              "      [theme=dark] .colab-df-generate:hover {\n",
              "        background-color: #434B5C;\n",
              "        box-shadow: 0px 1px 3px 1px rgba(0, 0, 0, 0.15);\n",
              "        filter: drop-shadow(0px 1px 2px rgba(0, 0, 0, 0.3));\n",
              "        fill: #FFFFFF;\n",
              "      }\n",
              "    </style>\n",
              "    <button class=\"colab-df-generate\" onclick=\"generateWithVariable('dataframe')\"\n",
              "            title=\"Generate code using this dataframe.\"\n",
              "            style=\"display:none;\">\n",
              "\n",
              "  <svg xmlns=\"http://www.w3.org/2000/svg\" height=\"24px\"viewBox=\"0 0 24 24\"\n",
              "       width=\"24px\">\n",
              "    <path d=\"M7,19H8.4L18.45,9,17,7.55,7,17.6ZM5,21V16.75L18.45,3.32a2,2,0,0,1,2.83,0l1.4,1.43a1.91,1.91,0,0,1,.58,1.4,1.91,1.91,0,0,1-.58,1.4L9.25,21ZM18.45,9,17,7.55Zm-12,3A5.31,5.31,0,0,0,4.9,8.1,5.31,5.31,0,0,0,1,6.5,5.31,5.31,0,0,0,4.9,4.9,5.31,5.31,0,0,0,6.5,1,5.31,5.31,0,0,0,8.1,4.9,5.31,5.31,0,0,0,12,6.5,5.46,5.46,0,0,0,6.5,12Z\"/>\n",
              "  </svg>\n",
              "    </button>\n",
              "    <script>\n",
              "      (() => {\n",
              "      const buttonEl =\n",
              "        document.querySelector('#id_164eb39c-a580-4394-bcce-eefc4bc72963 button.colab-df-generate');\n",
              "      buttonEl.style.display =\n",
              "        google.colab.kernel.accessAllowed ? 'block' : 'none';\n",
              "\n",
              "      buttonEl.onclick = () => {\n",
              "        google.colab.notebook.generateWithVariable('dataframe');\n",
              "      }\n",
              "      })();\n",
              "    </script>\n",
              "  </div>\n",
              "\n",
              "    </div>\n",
              "  </div>\n"
            ],
            "application/vnd.google.colaboratory.intrinsic+json": {
              "type": "dataframe",
              "variable_name": "dataframe",
              "summary": "{\n  \"name\": \"dataframe\",\n  \"rows\": 4548,\n  \"fields\": [\n    {\n      \"column\": \"text\",\n      \"properties\": {\n        \"dtype\": \"string\",\n        \"num_unique_values\": 4490,\n        \"samples\": [\n          \"Many have forgotten those darkest of days, now referred to by the old timers as \\\"The Zombie Inundatio\\u2026 https://t.co/UyN5w4PjTf\",\n          \"\\\"Yes, the smoke is a problem but smoke, as it always does, will blow away.\\\" Acting PM Michael McCormack comments on the bushfir\\u2026\",\n          \"being completely obliterated and left in destruction, when that wasnt really the case at all. they did grow distant\\u2026 https://t.co/lfjvyNP5vs\"\n        ],\n        \"semantic_type\": \"\",\n        \"description\": \"\"\n      }\n    },\n    {\n      \"column\": \"org_class\",\n      \"properties\": {\n        \"dtype\": \"category\",\n        \"num_unique_values\": 2,\n        \"samples\": [\n          \"not_disaster\",\n          \"disaster\"\n        ],\n        \"semantic_type\": \"\",\n        \"description\": \"\"\n      }\n    },\n    {\n      \"column\": \"test_label\",\n      \"properties\": {\n        \"dtype\": \"number\",\n        \"std\": 0,\n        \"min\": 0,\n        \"max\": 1,\n        \"num_unique_values\": 2,\n        \"samples\": [\n          0,\n          1\n        ],\n        \"semantic_type\": \"\",\n        \"description\": \"\"\n      }\n    },\n    {\n      \"column\": \"pred_label\",\n      \"properties\": {\n        \"dtype\": \"int32\",\n        \"num_unique_values\": 2,\n        \"samples\": [\n          1,\n          0\n        ],\n        \"semantic_type\": \"\",\n        \"description\": \"\"\n      }\n    },\n    {\n      \"column\": \"pred_class\",\n      \"properties\": {\n        \"dtype\": \"category\",\n        \"num_unique_values\": 2,\n        \"samples\": [\n          \"disaster\",\n          \"not_disaster\"\n        ],\n        \"semantic_type\": \"\",\n        \"description\": \"\"\n      }\n    },\n    {\n      \"column\": \"pred_prob\",\n      \"properties\": {\n        \"dtype\": \"float32\",\n        \"num_unique_values\": 4120,\n        \"samples\": [\n          0.1798703521490097,\n          0.12333628535270691\n        ],\n        \"semantic_type\": \"\",\n        \"description\": \"\"\n      }\n    }\n  ]\n}"
            }
          },
          "metadata": {},
          "execution_count": 71
        }
      ]
    },
    {
      "cell_type": "code",
      "source": [
        "dataframe[\"correct\"] = dataframe[\"test_label\"] == dataframe[\"pred_label\"]\n",
        "dataframe"
      ],
      "metadata": {
        "colab": {
          "base_uri": "https://localhost:8080/",
          "height": 423
        },
        "id": "WdacCDUQfiwi",
        "outputId": "2e45d09a-4291-4c9f-880f-b90347679435"
      },
      "execution_count": null,
      "outputs": [
        {
          "output_type": "execute_result",
          "data": {
            "text/plain": [
              "                                                   text     org_class  \\\n",
              "0     • 29 injuries to 16 players. And that was only...      disaster   \n",
              "1     What would be the fee for Butland from Stoke -...  not_disaster   \n",
              "2     Easy to say Philly had a bad secondary, but th...  not_disaster   \n",
              "3     The A&amp;Es at Queen Elizabeth Hospital and U...  not_disaster   \n",
              "4     We need options for rotation it’s the reason w...  not_disaster   \n",
              "...                                                 ...           ...   \n",
              "4543  Media should have warned us well in advance. T...  not_disaster   \n",
              "4544  i feel directly attacked 💀 i consider moonbin ...  not_disaster   \n",
              "4545  i feel directly attacked 💀 i consider moonbin ...  not_disaster   \n",
              "4546  ok who remember \"outcast\" nd the \"dora\" au?? T...  not_disaster   \n",
              "4547     Jake Corway wrecked while running 14th at IRP.      disaster   \n",
              "\n",
              "      test_label  pred_label    pred_class  pred_prob  correct  \n",
              "0              1           0  not_disaster   0.191277    False  \n",
              "1              0           0  not_disaster   0.005589     True  \n",
              "2              0           0  not_disaster   0.060019     True  \n",
              "3              0           0  not_disaster   0.251241     True  \n",
              "4              0           0  not_disaster   0.097198     True  \n",
              "...          ...         ...           ...        ...      ...  \n",
              "4543           0           0  not_disaster   0.112634     True  \n",
              "4544           0           0  not_disaster   0.076752     True  \n",
              "4545           0           0  not_disaster   0.076752     True  \n",
              "4546           0           0  not_disaster   0.095778     True  \n",
              "4547           1           0  not_disaster   0.169175    False  \n",
              "\n",
              "[4548 rows x 7 columns]"
            ],
            "text/html": [
              "\n",
              "  <div id=\"df-e72b1eff-4fda-4303-968b-601483a3e2a7\" class=\"colab-df-container\">\n",
              "    <div>\n",
              "<style scoped>\n",
              "    .dataframe tbody tr th:only-of-type {\n",
              "        vertical-align: middle;\n",
              "    }\n",
              "\n",
              "    .dataframe tbody tr th {\n",
              "        vertical-align: top;\n",
              "    }\n",
              "\n",
              "    .dataframe thead th {\n",
              "        text-align: right;\n",
              "    }\n",
              "</style>\n",
              "<table border=\"1\" class=\"dataframe\">\n",
              "  <thead>\n",
              "    <tr style=\"text-align: right;\">\n",
              "      <th></th>\n",
              "      <th>text</th>\n",
              "      <th>org_class</th>\n",
              "      <th>test_label</th>\n",
              "      <th>pred_label</th>\n",
              "      <th>pred_class</th>\n",
              "      <th>pred_prob</th>\n",
              "      <th>correct</th>\n",
              "    </tr>\n",
              "  </thead>\n",
              "  <tbody>\n",
              "    <tr>\n",
              "      <th>0</th>\n",
              "      <td>• 29 injuries to 16 players. And that was only...</td>\n",
              "      <td>disaster</td>\n",
              "      <td>1</td>\n",
              "      <td>0</td>\n",
              "      <td>not_disaster</td>\n",
              "      <td>0.191277</td>\n",
              "      <td>False</td>\n",
              "    </tr>\n",
              "    <tr>\n",
              "      <th>1</th>\n",
              "      <td>What would be the fee for Butland from Stoke -...</td>\n",
              "      <td>not_disaster</td>\n",
              "      <td>0</td>\n",
              "      <td>0</td>\n",
              "      <td>not_disaster</td>\n",
              "      <td>0.005589</td>\n",
              "      <td>True</td>\n",
              "    </tr>\n",
              "    <tr>\n",
              "      <th>2</th>\n",
              "      <td>Easy to say Philly had a bad secondary, but th...</td>\n",
              "      <td>not_disaster</td>\n",
              "      <td>0</td>\n",
              "      <td>0</td>\n",
              "      <td>not_disaster</td>\n",
              "      <td>0.060019</td>\n",
              "      <td>True</td>\n",
              "    </tr>\n",
              "    <tr>\n",
              "      <th>3</th>\n",
              "      <td>The A&amp;amp;Es at Queen Elizabeth Hospital and U...</td>\n",
              "      <td>not_disaster</td>\n",
              "      <td>0</td>\n",
              "      <td>0</td>\n",
              "      <td>not_disaster</td>\n",
              "      <td>0.251241</td>\n",
              "      <td>True</td>\n",
              "    </tr>\n",
              "    <tr>\n",
              "      <th>4</th>\n",
              "      <td>We need options for rotation it’s the reason w...</td>\n",
              "      <td>not_disaster</td>\n",
              "      <td>0</td>\n",
              "      <td>0</td>\n",
              "      <td>not_disaster</td>\n",
              "      <td>0.097198</td>\n",
              "      <td>True</td>\n",
              "    </tr>\n",
              "    <tr>\n",
              "      <th>...</th>\n",
              "      <td>...</td>\n",
              "      <td>...</td>\n",
              "      <td>...</td>\n",
              "      <td>...</td>\n",
              "      <td>...</td>\n",
              "      <td>...</td>\n",
              "      <td>...</td>\n",
              "    </tr>\n",
              "    <tr>\n",
              "      <th>4543</th>\n",
              "      <td>Media should have warned us well in advance. T...</td>\n",
              "      <td>not_disaster</td>\n",
              "      <td>0</td>\n",
              "      <td>0</td>\n",
              "      <td>not_disaster</td>\n",
              "      <td>0.112634</td>\n",
              "      <td>True</td>\n",
              "    </tr>\n",
              "    <tr>\n",
              "      <th>4544</th>\n",
              "      <td>i feel directly attacked 💀 i consider moonbin ...</td>\n",
              "      <td>not_disaster</td>\n",
              "      <td>0</td>\n",
              "      <td>0</td>\n",
              "      <td>not_disaster</td>\n",
              "      <td>0.076752</td>\n",
              "      <td>True</td>\n",
              "    </tr>\n",
              "    <tr>\n",
              "      <th>4545</th>\n",
              "      <td>i feel directly attacked 💀 i consider moonbin ...</td>\n",
              "      <td>not_disaster</td>\n",
              "      <td>0</td>\n",
              "      <td>0</td>\n",
              "      <td>not_disaster</td>\n",
              "      <td>0.076752</td>\n",
              "      <td>True</td>\n",
              "    </tr>\n",
              "    <tr>\n",
              "      <th>4546</th>\n",
              "      <td>ok who remember \"outcast\" nd the \"dora\" au?? T...</td>\n",
              "      <td>not_disaster</td>\n",
              "      <td>0</td>\n",
              "      <td>0</td>\n",
              "      <td>not_disaster</td>\n",
              "      <td>0.095778</td>\n",
              "      <td>True</td>\n",
              "    </tr>\n",
              "    <tr>\n",
              "      <th>4547</th>\n",
              "      <td>Jake Corway wrecked while running 14th at IRP.</td>\n",
              "      <td>disaster</td>\n",
              "      <td>1</td>\n",
              "      <td>0</td>\n",
              "      <td>not_disaster</td>\n",
              "      <td>0.169175</td>\n",
              "      <td>False</td>\n",
              "    </tr>\n",
              "  </tbody>\n",
              "</table>\n",
              "<p>4548 rows × 7 columns</p>\n",
              "</div>\n",
              "    <div class=\"colab-df-buttons\">\n",
              "\n",
              "  <div class=\"colab-df-container\">\n",
              "    <button class=\"colab-df-convert\" onclick=\"convertToInteractive('df-e72b1eff-4fda-4303-968b-601483a3e2a7')\"\n",
              "            title=\"Convert this dataframe to an interactive table.\"\n",
              "            style=\"display:none;\">\n",
              "\n",
              "  <svg xmlns=\"http://www.w3.org/2000/svg\" height=\"24px\" viewBox=\"0 -960 960 960\">\n",
              "    <path d=\"M120-120v-720h720v720H120Zm60-500h600v-160H180v160Zm220 220h160v-160H400v160Zm0 220h160v-160H400v160ZM180-400h160v-160H180v160Zm440 0h160v-160H620v160ZM180-180h160v-160H180v160Zm440 0h160v-160H620v160Z\"/>\n",
              "  </svg>\n",
              "    </button>\n",
              "\n",
              "  <style>\n",
              "    .colab-df-container {\n",
              "      display:flex;\n",
              "      gap: 12px;\n",
              "    }\n",
              "\n",
              "    .colab-df-convert {\n",
              "      background-color: #E8F0FE;\n",
              "      border: none;\n",
              "      border-radius: 50%;\n",
              "      cursor: pointer;\n",
              "      display: none;\n",
              "      fill: #1967D2;\n",
              "      height: 32px;\n",
              "      padding: 0 0 0 0;\n",
              "      width: 32px;\n",
              "    }\n",
              "\n",
              "    .colab-df-convert:hover {\n",
              "      background-color: #E2EBFA;\n",
              "      box-shadow: 0px 1px 2px rgba(60, 64, 67, 0.3), 0px 1px 3px 1px rgba(60, 64, 67, 0.15);\n",
              "      fill: #174EA6;\n",
              "    }\n",
              "\n",
              "    .colab-df-buttons div {\n",
              "      margin-bottom: 4px;\n",
              "    }\n",
              "\n",
              "    [theme=dark] .colab-df-convert {\n",
              "      background-color: #3B4455;\n",
              "      fill: #D2E3FC;\n",
              "    }\n",
              "\n",
              "    [theme=dark] .colab-df-convert:hover {\n",
              "      background-color: #434B5C;\n",
              "      box-shadow: 0px 1px 3px 1px rgba(0, 0, 0, 0.15);\n",
              "      filter: drop-shadow(0px 1px 2px rgba(0, 0, 0, 0.3));\n",
              "      fill: #FFFFFF;\n",
              "    }\n",
              "  </style>\n",
              "\n",
              "    <script>\n",
              "      const buttonEl =\n",
              "        document.querySelector('#df-e72b1eff-4fda-4303-968b-601483a3e2a7 button.colab-df-convert');\n",
              "      buttonEl.style.display =\n",
              "        google.colab.kernel.accessAllowed ? 'block' : 'none';\n",
              "\n",
              "      async function convertToInteractive(key) {\n",
              "        const element = document.querySelector('#df-e72b1eff-4fda-4303-968b-601483a3e2a7');\n",
              "        const dataTable =\n",
              "          await google.colab.kernel.invokeFunction('convertToInteractive',\n",
              "                                                    [key], {});\n",
              "        if (!dataTable) return;\n",
              "\n",
              "        const docLinkHtml = 'Like what you see? Visit the ' +\n",
              "          '<a target=\"_blank\" href=https://colab.research.google.com/notebooks/data_table.ipynb>data table notebook</a>'\n",
              "          + ' to learn more about interactive tables.';\n",
              "        element.innerHTML = '';\n",
              "        dataTable['output_type'] = 'display_data';\n",
              "        await google.colab.output.renderOutput(dataTable, element);\n",
              "        const docLink = document.createElement('div');\n",
              "        docLink.innerHTML = docLinkHtml;\n",
              "        element.appendChild(docLink);\n",
              "      }\n",
              "    </script>\n",
              "  </div>\n",
              "\n",
              "\n",
              "<div id=\"df-d89e57e4-31c2-4f76-9a6e-aa02fc5de5c5\">\n",
              "  <button class=\"colab-df-quickchart\" onclick=\"quickchart('df-d89e57e4-31c2-4f76-9a6e-aa02fc5de5c5')\"\n",
              "            title=\"Suggest charts\"\n",
              "            style=\"display:none;\">\n",
              "\n",
              "<svg xmlns=\"http://www.w3.org/2000/svg\" height=\"24px\"viewBox=\"0 0 24 24\"\n",
              "     width=\"24px\">\n",
              "    <g>\n",
              "        <path d=\"M19 3H5c-1.1 0-2 .9-2 2v14c0 1.1.9 2 2 2h14c1.1 0 2-.9 2-2V5c0-1.1-.9-2-2-2zM9 17H7v-7h2v7zm4 0h-2V7h2v10zm4 0h-2v-4h2v4z\"/>\n",
              "    </g>\n",
              "</svg>\n",
              "  </button>\n",
              "\n",
              "<style>\n",
              "  .colab-df-quickchart {\n",
              "      --bg-color: #E8F0FE;\n",
              "      --fill-color: #1967D2;\n",
              "      --hover-bg-color: #E2EBFA;\n",
              "      --hover-fill-color: #174EA6;\n",
              "      --disabled-fill-color: #AAA;\n",
              "      --disabled-bg-color: #DDD;\n",
              "  }\n",
              "\n",
              "  [theme=dark] .colab-df-quickchart {\n",
              "      --bg-color: #3B4455;\n",
              "      --fill-color: #D2E3FC;\n",
              "      --hover-bg-color: #434B5C;\n",
              "      --hover-fill-color: #FFFFFF;\n",
              "      --disabled-bg-color: #3B4455;\n",
              "      --disabled-fill-color: #666;\n",
              "  }\n",
              "\n",
              "  .colab-df-quickchart {\n",
              "    background-color: var(--bg-color);\n",
              "    border: none;\n",
              "    border-radius: 50%;\n",
              "    cursor: pointer;\n",
              "    display: none;\n",
              "    fill: var(--fill-color);\n",
              "    height: 32px;\n",
              "    padding: 0;\n",
              "    width: 32px;\n",
              "  }\n",
              "\n",
              "  .colab-df-quickchart:hover {\n",
              "    background-color: var(--hover-bg-color);\n",
              "    box-shadow: 0 1px 2px rgba(60, 64, 67, 0.3), 0 1px 3px 1px rgba(60, 64, 67, 0.15);\n",
              "    fill: var(--button-hover-fill-color);\n",
              "  }\n",
              "\n",
              "  .colab-df-quickchart-complete:disabled,\n",
              "  .colab-df-quickchart-complete:disabled:hover {\n",
              "    background-color: var(--disabled-bg-color);\n",
              "    fill: var(--disabled-fill-color);\n",
              "    box-shadow: none;\n",
              "  }\n",
              "\n",
              "  .colab-df-spinner {\n",
              "    border: 2px solid var(--fill-color);\n",
              "    border-color: transparent;\n",
              "    border-bottom-color: var(--fill-color);\n",
              "    animation:\n",
              "      spin 1s steps(1) infinite;\n",
              "  }\n",
              "\n",
              "  @keyframes spin {\n",
              "    0% {\n",
              "      border-color: transparent;\n",
              "      border-bottom-color: var(--fill-color);\n",
              "      border-left-color: var(--fill-color);\n",
              "    }\n",
              "    20% {\n",
              "      border-color: transparent;\n",
              "      border-left-color: var(--fill-color);\n",
              "      border-top-color: var(--fill-color);\n",
              "    }\n",
              "    30% {\n",
              "      border-color: transparent;\n",
              "      border-left-color: var(--fill-color);\n",
              "      border-top-color: var(--fill-color);\n",
              "      border-right-color: var(--fill-color);\n",
              "    }\n",
              "    40% {\n",
              "      border-color: transparent;\n",
              "      border-right-color: var(--fill-color);\n",
              "      border-top-color: var(--fill-color);\n",
              "    }\n",
              "    60% {\n",
              "      border-color: transparent;\n",
              "      border-right-color: var(--fill-color);\n",
              "    }\n",
              "    80% {\n",
              "      border-color: transparent;\n",
              "      border-right-color: var(--fill-color);\n",
              "      border-bottom-color: var(--fill-color);\n",
              "    }\n",
              "    90% {\n",
              "      border-color: transparent;\n",
              "      border-bottom-color: var(--fill-color);\n",
              "    }\n",
              "  }\n",
              "</style>\n",
              "\n",
              "  <script>\n",
              "    async function quickchart(key) {\n",
              "      const quickchartButtonEl =\n",
              "        document.querySelector('#' + key + ' button');\n",
              "      quickchartButtonEl.disabled = true;  // To prevent multiple clicks.\n",
              "      quickchartButtonEl.classList.add('colab-df-spinner');\n",
              "      try {\n",
              "        const charts = await google.colab.kernel.invokeFunction(\n",
              "            'suggestCharts', [key], {});\n",
              "      } catch (error) {\n",
              "        console.error('Error during call to suggestCharts:', error);\n",
              "      }\n",
              "      quickchartButtonEl.classList.remove('colab-df-spinner');\n",
              "      quickchartButtonEl.classList.add('colab-df-quickchart-complete');\n",
              "    }\n",
              "    (() => {\n",
              "      let quickchartButtonEl =\n",
              "        document.querySelector('#df-d89e57e4-31c2-4f76-9a6e-aa02fc5de5c5 button');\n",
              "      quickchartButtonEl.style.display =\n",
              "        google.colab.kernel.accessAllowed ? 'block' : 'none';\n",
              "    })();\n",
              "  </script>\n",
              "</div>\n",
              "\n",
              "  <div id=\"id_3d95ad55-3179-493b-8be6-14a00f8f1479\">\n",
              "    <style>\n",
              "      .colab-df-generate {\n",
              "        background-color: #E8F0FE;\n",
              "        border: none;\n",
              "        border-radius: 50%;\n",
              "        cursor: pointer;\n",
              "        display: none;\n",
              "        fill: #1967D2;\n",
              "        height: 32px;\n",
              "        padding: 0 0 0 0;\n",
              "        width: 32px;\n",
              "      }\n",
              "\n",
              "      .colab-df-generate:hover {\n",
              "        background-color: #E2EBFA;\n",
              "        box-shadow: 0px 1px 2px rgba(60, 64, 67, 0.3), 0px 1px 3px 1px rgba(60, 64, 67, 0.15);\n",
              "        fill: #174EA6;\n",
              "      }\n",
              "\n",
              "      [theme=dark] .colab-df-generate {\n",
              "        background-color: #3B4455;\n",
              "        fill: #D2E3FC;\n",
              "      }\n",
              "\n",
              "      [theme=dark] .colab-df-generate:hover {\n",
              "        background-color: #434B5C;\n",
              "        box-shadow: 0px 1px 3px 1px rgba(0, 0, 0, 0.15);\n",
              "        filter: drop-shadow(0px 1px 2px rgba(0, 0, 0, 0.3));\n",
              "        fill: #FFFFFF;\n",
              "      }\n",
              "    </style>\n",
              "    <button class=\"colab-df-generate\" onclick=\"generateWithVariable('dataframe')\"\n",
              "            title=\"Generate code using this dataframe.\"\n",
              "            style=\"display:none;\">\n",
              "\n",
              "  <svg xmlns=\"http://www.w3.org/2000/svg\" height=\"24px\"viewBox=\"0 0 24 24\"\n",
              "       width=\"24px\">\n",
              "    <path d=\"M7,19H8.4L18.45,9,17,7.55,7,17.6ZM5,21V16.75L18.45,3.32a2,2,0,0,1,2.83,0l1.4,1.43a1.91,1.91,0,0,1,.58,1.4,1.91,1.91,0,0,1-.58,1.4L9.25,21ZM18.45,9,17,7.55Zm-12,3A5.31,5.31,0,0,0,4.9,8.1,5.31,5.31,0,0,0,1,6.5,5.31,5.31,0,0,0,4.9,4.9,5.31,5.31,0,0,0,6.5,1,5.31,5.31,0,0,0,8.1,4.9,5.31,5.31,0,0,0,12,6.5,5.46,5.46,0,0,0,6.5,12Z\"/>\n",
              "  </svg>\n",
              "    </button>\n",
              "    <script>\n",
              "      (() => {\n",
              "      const buttonEl =\n",
              "        document.querySelector('#id_3d95ad55-3179-493b-8be6-14a00f8f1479 button.colab-df-generate');\n",
              "      buttonEl.style.display =\n",
              "        google.colab.kernel.accessAllowed ? 'block' : 'none';\n",
              "\n",
              "      buttonEl.onclick = () => {\n",
              "        google.colab.notebook.generateWithVariable('dataframe');\n",
              "      }\n",
              "      })();\n",
              "    </script>\n",
              "  </div>\n",
              "\n",
              "    </div>\n",
              "  </div>\n"
            ],
            "application/vnd.google.colaboratory.intrinsic+json": {
              "type": "dataframe",
              "variable_name": "dataframe",
              "summary": "{\n  \"name\": \"dataframe\",\n  \"rows\": 4548,\n  \"fields\": [\n    {\n      \"column\": \"text\",\n      \"properties\": {\n        \"dtype\": \"string\",\n        \"num_unique_values\": 4490,\n        \"samples\": [\n          \"Many have forgotten those darkest of days, now referred to by the old timers as \\\"The Zombie Inundatio\\u2026 https://t.co/UyN5w4PjTf\",\n          \"\\\"Yes, the smoke is a problem but smoke, as it always does, will blow away.\\\" Acting PM Michael McCormack comments on the bushfir\\u2026\",\n          \"being completely obliterated and left in destruction, when that wasnt really the case at all. they did grow distant\\u2026 https://t.co/lfjvyNP5vs\"\n        ],\n        \"semantic_type\": \"\",\n        \"description\": \"\"\n      }\n    },\n    {\n      \"column\": \"org_class\",\n      \"properties\": {\n        \"dtype\": \"category\",\n        \"num_unique_values\": 2,\n        \"samples\": [\n          \"not_disaster\",\n          \"disaster\"\n        ],\n        \"semantic_type\": \"\",\n        \"description\": \"\"\n      }\n    },\n    {\n      \"column\": \"test_label\",\n      \"properties\": {\n        \"dtype\": \"number\",\n        \"std\": 0,\n        \"min\": 0,\n        \"max\": 1,\n        \"num_unique_values\": 2,\n        \"samples\": [\n          0,\n          1\n        ],\n        \"semantic_type\": \"\",\n        \"description\": \"\"\n      }\n    },\n    {\n      \"column\": \"pred_label\",\n      \"properties\": {\n        \"dtype\": \"int32\",\n        \"num_unique_values\": 2,\n        \"samples\": [\n          1,\n          0\n        ],\n        \"semantic_type\": \"\",\n        \"description\": \"\"\n      }\n    },\n    {\n      \"column\": \"pred_class\",\n      \"properties\": {\n        \"dtype\": \"category\",\n        \"num_unique_values\": 2,\n        \"samples\": [\n          \"disaster\",\n          \"not_disaster\"\n        ],\n        \"semantic_type\": \"\",\n        \"description\": \"\"\n      }\n    },\n    {\n      \"column\": \"pred_prob\",\n      \"properties\": {\n        \"dtype\": \"float32\",\n        \"num_unique_values\": 4120,\n        \"samples\": [\n          0.1798703521490097,\n          0.12333628535270691\n        ],\n        \"semantic_type\": \"\",\n        \"description\": \"\"\n      }\n    },\n    {\n      \"column\": \"correct\",\n      \"properties\": {\n        \"dtype\": \"boolean\",\n        \"num_unique_values\": 2,\n        \"samples\": [\n          true,\n          false\n        ],\n        \"semantic_type\": \"\",\n        \"description\": \"\"\n      }\n    }\n  ]\n}"
            }
          },
          "metadata": {},
          "execution_count": 72
        }
      ]
    },
    {
      "cell_type": "code",
      "source": [
        "new_dataframe = dataframe[dataframe[\"correct\"] != True].sort_values(by = [\"pred_prob\"],ascending = False)\n",
        "new_dataframe"
      ],
      "metadata": {
        "colab": {
          "base_uri": "https://localhost:8080/",
          "height": 423
        },
        "id": "pmB1hP4yhxDT",
        "outputId": "7539daaf-f7e4-420a-dfb1-c82001d03053"
      },
      "execution_count": null,
      "outputs": [
        {
          "output_type": "execute_result",
          "data": {
            "text/plain": [
              "                                                   text     org_class  \\\n",
              "2327  i'm hooked on the old decaying drain culvert t...  not_disaster   \n",
              "3549  10 years ago today, an IDF humanitarian delega...  not_disaster   \n",
              "86    NEWS ALERT: Issues impacting driver's license ...  not_disaster   \n",
              "2341  I could have told EMM what the problem with th...  not_disaster   \n",
              "3508  Dan Goodin:'Exploit that gives remote access a...  not_disaster   \n",
              "...                                                 ...           ...   \n",
              "4224  There's method to the madness with the Califor...      disaster   \n",
              "3475  #TheAustralian never fails to disappoint. The ...      disaster   \n",
              "1743  Gorgeous Maine coon! Those eyes! One of my 3 i...      disaster   \n",
              "827   Don’t forget that part of that is nuclear powe...      disaster   \n",
              "472   Oh wait, lets' not forget Anders Brevik, that ...      disaster   \n",
              "\n",
              "      test_label  pred_label    pred_class  pred_prob  correct  \n",
              "2327           0           1      disaster   0.970765    False  \n",
              "3549           0           1      disaster   0.955168    False  \n",
              "86             0           1      disaster   0.927967    False  \n",
              "2341           0           1      disaster   0.918628    False  \n",
              "3508           0           1      disaster   0.911552    False  \n",
              "...          ...         ...           ...        ...      ...  \n",
              "4224           1           0  not_disaster   0.004656    False  \n",
              "3475           1           0  not_disaster   0.004213    False  \n",
              "1743           1           0  not_disaster   0.003514    False  \n",
              "827            1           0  not_disaster   0.002145    False  \n",
              "472            1           0  not_disaster   0.002141    False  \n",
              "\n",
              "[732 rows x 7 columns]"
            ],
            "text/html": [
              "\n",
              "  <div id=\"df-92d95726-7205-4786-b458-f7ac52868f5f\" class=\"colab-df-container\">\n",
              "    <div>\n",
              "<style scoped>\n",
              "    .dataframe tbody tr th:only-of-type {\n",
              "        vertical-align: middle;\n",
              "    }\n",
              "\n",
              "    .dataframe tbody tr th {\n",
              "        vertical-align: top;\n",
              "    }\n",
              "\n",
              "    .dataframe thead th {\n",
              "        text-align: right;\n",
              "    }\n",
              "</style>\n",
              "<table border=\"1\" class=\"dataframe\">\n",
              "  <thead>\n",
              "    <tr style=\"text-align: right;\">\n",
              "      <th></th>\n",
              "      <th>text</th>\n",
              "      <th>org_class</th>\n",
              "      <th>test_label</th>\n",
              "      <th>pred_label</th>\n",
              "      <th>pred_class</th>\n",
              "      <th>pred_prob</th>\n",
              "      <th>correct</th>\n",
              "    </tr>\n",
              "  </thead>\n",
              "  <tbody>\n",
              "    <tr>\n",
              "      <th>2327</th>\n",
              "      <td>i'm hooked on the old decaying drain culvert t...</td>\n",
              "      <td>not_disaster</td>\n",
              "      <td>0</td>\n",
              "      <td>1</td>\n",
              "      <td>disaster</td>\n",
              "      <td>0.970765</td>\n",
              "      <td>False</td>\n",
              "    </tr>\n",
              "    <tr>\n",
              "      <th>3549</th>\n",
              "      <td>10 years ago today, an IDF humanitarian delega...</td>\n",
              "      <td>not_disaster</td>\n",
              "      <td>0</td>\n",
              "      <td>1</td>\n",
              "      <td>disaster</td>\n",
              "      <td>0.955168</td>\n",
              "      <td>False</td>\n",
              "    </tr>\n",
              "    <tr>\n",
              "      <th>86</th>\n",
              "      <td>NEWS ALERT: Issues impacting driver's license ...</td>\n",
              "      <td>not_disaster</td>\n",
              "      <td>0</td>\n",
              "      <td>1</td>\n",
              "      <td>disaster</td>\n",
              "      <td>0.927967</td>\n",
              "      <td>False</td>\n",
              "    </tr>\n",
              "    <tr>\n",
              "      <th>2341</th>\n",
              "      <td>I could have told EMM what the problem with th...</td>\n",
              "      <td>not_disaster</td>\n",
              "      <td>0</td>\n",
              "      <td>1</td>\n",
              "      <td>disaster</td>\n",
              "      <td>0.918628</td>\n",
              "      <td>False</td>\n",
              "    </tr>\n",
              "    <tr>\n",
              "      <th>3508</th>\n",
              "      <td>Dan Goodin:'Exploit that gives remote access a...</td>\n",
              "      <td>not_disaster</td>\n",
              "      <td>0</td>\n",
              "      <td>1</td>\n",
              "      <td>disaster</td>\n",
              "      <td>0.911552</td>\n",
              "      <td>False</td>\n",
              "    </tr>\n",
              "    <tr>\n",
              "      <th>...</th>\n",
              "      <td>...</td>\n",
              "      <td>...</td>\n",
              "      <td>...</td>\n",
              "      <td>...</td>\n",
              "      <td>...</td>\n",
              "      <td>...</td>\n",
              "      <td>...</td>\n",
              "    </tr>\n",
              "    <tr>\n",
              "      <th>4224</th>\n",
              "      <td>There's method to the madness with the Califor...</td>\n",
              "      <td>disaster</td>\n",
              "      <td>1</td>\n",
              "      <td>0</td>\n",
              "      <td>not_disaster</td>\n",
              "      <td>0.004656</td>\n",
              "      <td>False</td>\n",
              "    </tr>\n",
              "    <tr>\n",
              "      <th>3475</th>\n",
              "      <td>#TheAustralian never fails to disappoint. The ...</td>\n",
              "      <td>disaster</td>\n",
              "      <td>1</td>\n",
              "      <td>0</td>\n",
              "      <td>not_disaster</td>\n",
              "      <td>0.004213</td>\n",
              "      <td>False</td>\n",
              "    </tr>\n",
              "    <tr>\n",
              "      <th>1743</th>\n",
              "      <td>Gorgeous Maine coon! Those eyes! One of my 3 i...</td>\n",
              "      <td>disaster</td>\n",
              "      <td>1</td>\n",
              "      <td>0</td>\n",
              "      <td>not_disaster</td>\n",
              "      <td>0.003514</td>\n",
              "      <td>False</td>\n",
              "    </tr>\n",
              "    <tr>\n",
              "      <th>827</th>\n",
              "      <td>Don’t forget that part of that is nuclear powe...</td>\n",
              "      <td>disaster</td>\n",
              "      <td>1</td>\n",
              "      <td>0</td>\n",
              "      <td>not_disaster</td>\n",
              "      <td>0.002145</td>\n",
              "      <td>False</td>\n",
              "    </tr>\n",
              "    <tr>\n",
              "      <th>472</th>\n",
              "      <td>Oh wait, lets' not forget Anders Brevik, that ...</td>\n",
              "      <td>disaster</td>\n",
              "      <td>1</td>\n",
              "      <td>0</td>\n",
              "      <td>not_disaster</td>\n",
              "      <td>0.002141</td>\n",
              "      <td>False</td>\n",
              "    </tr>\n",
              "  </tbody>\n",
              "</table>\n",
              "<p>732 rows × 7 columns</p>\n",
              "</div>\n",
              "    <div class=\"colab-df-buttons\">\n",
              "\n",
              "  <div class=\"colab-df-container\">\n",
              "    <button class=\"colab-df-convert\" onclick=\"convertToInteractive('df-92d95726-7205-4786-b458-f7ac52868f5f')\"\n",
              "            title=\"Convert this dataframe to an interactive table.\"\n",
              "            style=\"display:none;\">\n",
              "\n",
              "  <svg xmlns=\"http://www.w3.org/2000/svg\" height=\"24px\" viewBox=\"0 -960 960 960\">\n",
              "    <path d=\"M120-120v-720h720v720H120Zm60-500h600v-160H180v160Zm220 220h160v-160H400v160Zm0 220h160v-160H400v160ZM180-400h160v-160H180v160Zm440 0h160v-160H620v160ZM180-180h160v-160H180v160Zm440 0h160v-160H620v160Z\"/>\n",
              "  </svg>\n",
              "    </button>\n",
              "\n",
              "  <style>\n",
              "    .colab-df-container {\n",
              "      display:flex;\n",
              "      gap: 12px;\n",
              "    }\n",
              "\n",
              "    .colab-df-convert {\n",
              "      background-color: #E8F0FE;\n",
              "      border: none;\n",
              "      border-radius: 50%;\n",
              "      cursor: pointer;\n",
              "      display: none;\n",
              "      fill: #1967D2;\n",
              "      height: 32px;\n",
              "      padding: 0 0 0 0;\n",
              "      width: 32px;\n",
              "    }\n",
              "\n",
              "    .colab-df-convert:hover {\n",
              "      background-color: #E2EBFA;\n",
              "      box-shadow: 0px 1px 2px rgba(60, 64, 67, 0.3), 0px 1px 3px 1px rgba(60, 64, 67, 0.15);\n",
              "      fill: #174EA6;\n",
              "    }\n",
              "\n",
              "    .colab-df-buttons div {\n",
              "      margin-bottom: 4px;\n",
              "    }\n",
              "\n",
              "    [theme=dark] .colab-df-convert {\n",
              "      background-color: #3B4455;\n",
              "      fill: #D2E3FC;\n",
              "    }\n",
              "\n",
              "    [theme=dark] .colab-df-convert:hover {\n",
              "      background-color: #434B5C;\n",
              "      box-shadow: 0px 1px 3px 1px rgba(0, 0, 0, 0.15);\n",
              "      filter: drop-shadow(0px 1px 2px rgba(0, 0, 0, 0.3));\n",
              "      fill: #FFFFFF;\n",
              "    }\n",
              "  </style>\n",
              "\n",
              "    <script>\n",
              "      const buttonEl =\n",
              "        document.querySelector('#df-92d95726-7205-4786-b458-f7ac52868f5f button.colab-df-convert');\n",
              "      buttonEl.style.display =\n",
              "        google.colab.kernel.accessAllowed ? 'block' : 'none';\n",
              "\n",
              "      async function convertToInteractive(key) {\n",
              "        const element = document.querySelector('#df-92d95726-7205-4786-b458-f7ac52868f5f');\n",
              "        const dataTable =\n",
              "          await google.colab.kernel.invokeFunction('convertToInteractive',\n",
              "                                                    [key], {});\n",
              "        if (!dataTable) return;\n",
              "\n",
              "        const docLinkHtml = 'Like what you see? Visit the ' +\n",
              "          '<a target=\"_blank\" href=https://colab.research.google.com/notebooks/data_table.ipynb>data table notebook</a>'\n",
              "          + ' to learn more about interactive tables.';\n",
              "        element.innerHTML = '';\n",
              "        dataTable['output_type'] = 'display_data';\n",
              "        await google.colab.output.renderOutput(dataTable, element);\n",
              "        const docLink = document.createElement('div');\n",
              "        docLink.innerHTML = docLinkHtml;\n",
              "        element.appendChild(docLink);\n",
              "      }\n",
              "    </script>\n",
              "  </div>\n",
              "\n",
              "\n",
              "<div id=\"df-53706b04-a8bf-4af3-a27c-b858e88a7e43\">\n",
              "  <button class=\"colab-df-quickchart\" onclick=\"quickchart('df-53706b04-a8bf-4af3-a27c-b858e88a7e43')\"\n",
              "            title=\"Suggest charts\"\n",
              "            style=\"display:none;\">\n",
              "\n",
              "<svg xmlns=\"http://www.w3.org/2000/svg\" height=\"24px\"viewBox=\"0 0 24 24\"\n",
              "     width=\"24px\">\n",
              "    <g>\n",
              "        <path d=\"M19 3H5c-1.1 0-2 .9-2 2v14c0 1.1.9 2 2 2h14c1.1 0 2-.9 2-2V5c0-1.1-.9-2-2-2zM9 17H7v-7h2v7zm4 0h-2V7h2v10zm4 0h-2v-4h2v4z\"/>\n",
              "    </g>\n",
              "</svg>\n",
              "  </button>\n",
              "\n",
              "<style>\n",
              "  .colab-df-quickchart {\n",
              "      --bg-color: #E8F0FE;\n",
              "      --fill-color: #1967D2;\n",
              "      --hover-bg-color: #E2EBFA;\n",
              "      --hover-fill-color: #174EA6;\n",
              "      --disabled-fill-color: #AAA;\n",
              "      --disabled-bg-color: #DDD;\n",
              "  }\n",
              "\n",
              "  [theme=dark] .colab-df-quickchart {\n",
              "      --bg-color: #3B4455;\n",
              "      --fill-color: #D2E3FC;\n",
              "      --hover-bg-color: #434B5C;\n",
              "      --hover-fill-color: #FFFFFF;\n",
              "      --disabled-bg-color: #3B4455;\n",
              "      --disabled-fill-color: #666;\n",
              "  }\n",
              "\n",
              "  .colab-df-quickchart {\n",
              "    background-color: var(--bg-color);\n",
              "    border: none;\n",
              "    border-radius: 50%;\n",
              "    cursor: pointer;\n",
              "    display: none;\n",
              "    fill: var(--fill-color);\n",
              "    height: 32px;\n",
              "    padding: 0;\n",
              "    width: 32px;\n",
              "  }\n",
              "\n",
              "  .colab-df-quickchart:hover {\n",
              "    background-color: var(--hover-bg-color);\n",
              "    box-shadow: 0 1px 2px rgba(60, 64, 67, 0.3), 0 1px 3px 1px rgba(60, 64, 67, 0.15);\n",
              "    fill: var(--button-hover-fill-color);\n",
              "  }\n",
              "\n",
              "  .colab-df-quickchart-complete:disabled,\n",
              "  .colab-df-quickchart-complete:disabled:hover {\n",
              "    background-color: var(--disabled-bg-color);\n",
              "    fill: var(--disabled-fill-color);\n",
              "    box-shadow: none;\n",
              "  }\n",
              "\n",
              "  .colab-df-spinner {\n",
              "    border: 2px solid var(--fill-color);\n",
              "    border-color: transparent;\n",
              "    border-bottom-color: var(--fill-color);\n",
              "    animation:\n",
              "      spin 1s steps(1) infinite;\n",
              "  }\n",
              "\n",
              "  @keyframes spin {\n",
              "    0% {\n",
              "      border-color: transparent;\n",
              "      border-bottom-color: var(--fill-color);\n",
              "      border-left-color: var(--fill-color);\n",
              "    }\n",
              "    20% {\n",
              "      border-color: transparent;\n",
              "      border-left-color: var(--fill-color);\n",
              "      border-top-color: var(--fill-color);\n",
              "    }\n",
              "    30% {\n",
              "      border-color: transparent;\n",
              "      border-left-color: var(--fill-color);\n",
              "      border-top-color: var(--fill-color);\n",
              "      border-right-color: var(--fill-color);\n",
              "    }\n",
              "    40% {\n",
              "      border-color: transparent;\n",
              "      border-right-color: var(--fill-color);\n",
              "      border-top-color: var(--fill-color);\n",
              "    }\n",
              "    60% {\n",
              "      border-color: transparent;\n",
              "      border-right-color: var(--fill-color);\n",
              "    }\n",
              "    80% {\n",
              "      border-color: transparent;\n",
              "      border-right-color: var(--fill-color);\n",
              "      border-bottom-color: var(--fill-color);\n",
              "    }\n",
              "    90% {\n",
              "      border-color: transparent;\n",
              "      border-bottom-color: var(--fill-color);\n",
              "    }\n",
              "  }\n",
              "</style>\n",
              "\n",
              "  <script>\n",
              "    async function quickchart(key) {\n",
              "      const quickchartButtonEl =\n",
              "        document.querySelector('#' + key + ' button');\n",
              "      quickchartButtonEl.disabled = true;  // To prevent multiple clicks.\n",
              "      quickchartButtonEl.classList.add('colab-df-spinner');\n",
              "      try {\n",
              "        const charts = await google.colab.kernel.invokeFunction(\n",
              "            'suggestCharts', [key], {});\n",
              "      } catch (error) {\n",
              "        console.error('Error during call to suggestCharts:', error);\n",
              "      }\n",
              "      quickchartButtonEl.classList.remove('colab-df-spinner');\n",
              "      quickchartButtonEl.classList.add('colab-df-quickchart-complete');\n",
              "    }\n",
              "    (() => {\n",
              "      let quickchartButtonEl =\n",
              "        document.querySelector('#df-53706b04-a8bf-4af3-a27c-b858e88a7e43 button');\n",
              "      quickchartButtonEl.style.display =\n",
              "        google.colab.kernel.accessAllowed ? 'block' : 'none';\n",
              "    })();\n",
              "  </script>\n",
              "</div>\n",
              "\n",
              "  <div id=\"id_ac0933b3-8d0a-4f8f-aef7-3e7762ded72a\">\n",
              "    <style>\n",
              "      .colab-df-generate {\n",
              "        background-color: #E8F0FE;\n",
              "        border: none;\n",
              "        border-radius: 50%;\n",
              "        cursor: pointer;\n",
              "        display: none;\n",
              "        fill: #1967D2;\n",
              "        height: 32px;\n",
              "        padding: 0 0 0 0;\n",
              "        width: 32px;\n",
              "      }\n",
              "\n",
              "      .colab-df-generate:hover {\n",
              "        background-color: #E2EBFA;\n",
              "        box-shadow: 0px 1px 2px rgba(60, 64, 67, 0.3), 0px 1px 3px 1px rgba(60, 64, 67, 0.15);\n",
              "        fill: #174EA6;\n",
              "      }\n",
              "\n",
              "      [theme=dark] .colab-df-generate {\n",
              "        background-color: #3B4455;\n",
              "        fill: #D2E3FC;\n",
              "      }\n",
              "\n",
              "      [theme=dark] .colab-df-generate:hover {\n",
              "        background-color: #434B5C;\n",
              "        box-shadow: 0px 1px 3px 1px rgba(0, 0, 0, 0.15);\n",
              "        filter: drop-shadow(0px 1px 2px rgba(0, 0, 0, 0.3));\n",
              "        fill: #FFFFFF;\n",
              "      }\n",
              "    </style>\n",
              "    <button class=\"colab-df-generate\" onclick=\"generateWithVariable('new_dataframe')\"\n",
              "            title=\"Generate code using this dataframe.\"\n",
              "            style=\"display:none;\">\n",
              "\n",
              "  <svg xmlns=\"http://www.w3.org/2000/svg\" height=\"24px\"viewBox=\"0 0 24 24\"\n",
              "       width=\"24px\">\n",
              "    <path d=\"M7,19H8.4L18.45,9,17,7.55,7,17.6ZM5,21V16.75L18.45,3.32a2,2,0,0,1,2.83,0l1.4,1.43a1.91,1.91,0,0,1,.58,1.4,1.91,1.91,0,0,1-.58,1.4L9.25,21ZM18.45,9,17,7.55Zm-12,3A5.31,5.31,0,0,0,4.9,8.1,5.31,5.31,0,0,0,1,6.5,5.31,5.31,0,0,0,4.9,4.9,5.31,5.31,0,0,0,6.5,1,5.31,5.31,0,0,0,8.1,4.9,5.31,5.31,0,0,0,12,6.5,5.46,5.46,0,0,0,6.5,12Z\"/>\n",
              "  </svg>\n",
              "    </button>\n",
              "    <script>\n",
              "      (() => {\n",
              "      const buttonEl =\n",
              "        document.querySelector('#id_ac0933b3-8d0a-4f8f-aef7-3e7762ded72a button.colab-df-generate');\n",
              "      buttonEl.style.display =\n",
              "        google.colab.kernel.accessAllowed ? 'block' : 'none';\n",
              "\n",
              "      buttonEl.onclick = () => {\n",
              "        google.colab.notebook.generateWithVariable('new_dataframe');\n",
              "      }\n",
              "      })();\n",
              "    </script>\n",
              "  </div>\n",
              "\n",
              "    </div>\n",
              "  </div>\n"
            ],
            "application/vnd.google.colaboratory.intrinsic+json": {
              "type": "dataframe",
              "variable_name": "new_dataframe",
              "summary": "{\n  \"name\": \"new_dataframe\",\n  \"rows\": 732,\n  \"fields\": [\n    {\n      \"column\": \"text\",\n      \"properties\": {\n        \"dtype\": \"string\",\n        \"num_unique_values\": 725,\n        \"samples\": [\n          \"Woman with new coronavirus quarantined in Thailand, 1st case outside China https://t.co/vho1n05pzS\",\n          \"Breaking News: U.S. Attorney General William Barr, declaring last month\\u2019s shooting at a naval air station in Pensacola, Florid\\u2026\",\n          \"Yesterday\\u2019s lightning and thunderstorms turned everyone here into born again\\ud83d\\ude02 not that it\\u2019s funny but people prayed in to\\u2026\"\n        ],\n        \"semantic_type\": \"\",\n        \"description\": \"\"\n      }\n    },\n    {\n      \"column\": \"org_class\",\n      \"properties\": {\n        \"dtype\": \"category\",\n        \"num_unique_values\": 2,\n        \"samples\": [\n          \"disaster\",\n          \"not_disaster\"\n        ],\n        \"semantic_type\": \"\",\n        \"description\": \"\"\n      }\n    },\n    {\n      \"column\": \"test_label\",\n      \"properties\": {\n        \"dtype\": \"number\",\n        \"std\": 0,\n        \"min\": 0,\n        \"max\": 1,\n        \"num_unique_values\": 2,\n        \"samples\": [\n          1,\n          0\n        ],\n        \"semantic_type\": \"\",\n        \"description\": \"\"\n      }\n    },\n    {\n      \"column\": \"pred_label\",\n      \"properties\": {\n        \"dtype\": \"int32\",\n        \"num_unique_values\": 2,\n        \"samples\": [\n          0,\n          1\n        ],\n        \"semantic_type\": \"\",\n        \"description\": \"\"\n      }\n    },\n    {\n      \"column\": \"pred_class\",\n      \"properties\": {\n        \"dtype\": \"category\",\n        \"num_unique_values\": 2,\n        \"samples\": [\n          \"not_disaster\",\n          \"disaster\"\n        ],\n        \"semantic_type\": \"\",\n        \"description\": \"\"\n      }\n    },\n    {\n      \"column\": \"pred_prob\",\n      \"properties\": {\n        \"dtype\": \"float32\",\n        \"num_unique_values\": 651,\n        \"samples\": [\n          0.007398047484457493,\n          0.31189602613449097\n        ],\n        \"semantic_type\": \"\",\n        \"description\": \"\"\n      }\n    },\n    {\n      \"column\": \"correct\",\n      \"properties\": {\n        \"dtype\": \"boolean\",\n        \"num_unique_values\": 1,\n        \"samples\": [\n          false\n        ],\n        \"semantic_type\": \"\",\n        \"description\": \"\"\n      }\n    }\n  ]\n}"
            }
          },
          "metadata": {},
          "execution_count": 73
        }
      ]
    },
    {
      "cell_type": "code",
      "source": [
        "for i,row in enumerate(new_dataframe[10:20].itertuples()):\n",
        "  print(f\"Text:-\\n{row[1]}\\n\")\n",
        "  print(f\"org_class:- {row[2]}\\npred_class:- {row[5]}\")\n",
        "  print(f\"\\n-------------\\n\")"
      ],
      "metadata": {
        "colab": {
          "base_uri": "https://localhost:8080/"
        },
        "id": "Oe7A-jYniODT",
        "outputId": "8e5361d6-cc2b-4d24-a8c1-41112861781c"
      },
      "execution_count": null,
      "outputs": [
        {
          "output_type": "stream",
          "name": "stdout",
          "text": [
            "Text:-\n",
            "🇦🇺 180 people so far charged with arson during Australian bushfires? False ❌ We collated police figures from across Aust…\n",
            "\n",
            "org_class:- not_disaster\n",
            "pred_class:- disaster\n",
            "\n",
            "-------------\n",
            "\n",
            "Text:-\n",
            "#SupremeCourt hearing matter related to Four apartment complexes - H2O Holy Faith, twin towers of Alfa Serene, Golden…\n",
            "\n",
            "org_class:- not_disaster\n",
            "pred_class:- disaster\n",
            "\n",
            "-------------\n",
            "\n",
            "Text:-\n",
            "America's #BlueGreenTeam in action! An F-35B Lightning II aircraft takes off from the flight deck of the #USNavy amphibi…\n",
            "\n",
            "org_class:- not_disaster\n",
            "pred_class:- disaster\n",
            "\n",
            "-------------\n",
            "\n",
            "Text:-\n",
            "//WOTV NEWS//: One-Of-A-Kind Armored Storm-Chasing Vehicle; Withstands 175 MPH Winds... https://t.co/Yf0EufWNSp\n",
            "\n",
            "org_class:- not_disaster\n",
            "pred_class:- disaster\n",
            "\n",
            "-------------\n",
            "\n",
            "Text:-\n",
            "When buildings collapse, search and rescue crews use dogs. Why? https://t.co/rgjGgDVziV\n",
            "\n",
            "org_class:- not_disaster\n",
            "pred_class:- disaster\n",
            "\n",
            "-------------\n",
            "\n",
            "Text:-\n",
            "Quarantine officials are facing criticism for allegedly causing damage to the Imjin River ecosystem by spreading a… https://t.co/JNkD670o9O\n",
            "\n",
            "org_class:- not_disaster\n",
            "pred_class:- disaster\n",
            "\n",
            "-------------\n",
            "\n",
            "Text:-\n",
            "With arrival of #StormBrendan to East coast bringing S/SW winds up to violent Storm Force 11, together with high Sp… https://t.co/8llRV8PECV\n",
            "\n",
            "org_class:- not_disaster\n",
            "pred_class:- disaster\n",
            "\n",
            "-------------\n",
            "\n",
            "Text:-\n",
            "With arrival of #StormBrendan to East coast bringing S/SW winds up to violent Storm Force 11, together with high Spring tid…\n",
            "\n",
            "org_class:- not_disaster\n",
            "pred_class:- disaster\n",
            "\n",
            "-------------\n",
            "\n",
            "Text:-\n",
            "Police have arrested six teenagers, including four 14-year-olds, over the vicious robbery in Melbourne's west last night. https…\n",
            "\n",
            "org_class:- not_disaster\n",
            "pred_class:- disaster\n",
            "\n",
            "-------------\n",
            "\n",
            "Text:-\n",
            "#StormBrendan 32,000 homes and businesses are s… https://t.co/tEJIVniRSn\n",
            "\n",
            "org_class:- not_disaster\n",
            "pred_class:- disaster\n",
            "\n",
            "-------------\n",
            "\n"
          ]
        }
      ]
    }
  ],
  "metadata": {
    "colab": {
      "provenance": [],
      "authorship_tag": "ABX9TyPVeE09kKTv7K5LfskJA55y",
      "include_colab_link": true
    },
    "kernelspec": {
      "display_name": "Python 3",
      "name": "python3"
    },
    "language_info": {
      "name": "python"
    }
  },
  "nbformat": 4,
  "nbformat_minor": 0
}